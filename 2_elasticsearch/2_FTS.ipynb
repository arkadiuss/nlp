{
 "cells": [
  {
   "cell_type": "markdown",
   "id": "269afdcb",
   "metadata": {},
   "source": [
    "### Preparation"
   ]
  },
  {
   "cell_type": "code",
   "execution_count": 15,
   "id": "7cf2162b",
   "metadata": {},
   "outputs": [],
   "source": [
    "from elasticsearch import Elasticsearch, helpers\n",
    "from nlp_common.acts_reader import ActsReader\n",
    "import json\n",
    "\n",
    "INDEX_NAME = 'polish-bills'"
   ]
  },
  {
   "cell_type": "code",
   "execution_count": 4,
   "id": "a2004db8",
   "metadata": {},
   "outputs": [],
   "source": [
    "def create_index(client: Elasticsearch):\n",
    "  if client.indices.exists(INDEX_NAME):\n",
    "    print(f'Index {INDEX_NAME} already exists. Skipping...')\n",
    "    return\n",
    "  \n",
    "  print(f'Index {INDEX_NAME} doesn\\'t exists. Creating...')\n",
    "  client.indices.create(\n",
    "      index=INDEX_NAME,\n",
    "      body={\n",
    "        'settings': {\n",
    "          'number_of_shards': 1,\n",
    "          'number_of_replicas': 0,\n",
    "          'analysis': {\n",
    "            'analyzer': {\n",
    "              'polish-bills-analyzer': {\n",
    "                'type': 'custom',\n",
    "                'tokenizer': 'standard',\n",
    "                'char_filter': [\n",
    "                  'kodeks_synonyms'\n",
    "                ],\n",
    "                'filter': [\n",
    "                  'morfologik_stem',\n",
    "                  'lowercase'\n",
    "                ]\n",
    "              }\n",
    "            },\n",
    "            'char_filter': {\n",
    "              'kodeks_synonyms': { \n",
    "                'type': 'mapping',\n",
    "                'mappings': [\n",
    "                  'kpk => kodeks postępowania karnego',\n",
    "                  'kpc => kodeks postępowania cywilnego',\n",
    "                  'kk => kodeks karny',\n",
    "                  'kc => kodeks cywilny'\n",
    "                ]\n",
    "              }\n",
    "            },\n",
    "          }\n",
    "        }\n",
    "      },\n",
    "    )\n",
    "\n",
    "\n",
    "def index_bills(client: Elasticsearch):\n",
    "  if client.indices.stats(INDEX_NAME)['_all']['primaries']['docs']['count'] > 0:\n",
    "    print('Some docs were already indexed. Skipping...')\n",
    "    return  \n",
    "  \n",
    "  print(f'Indexing bills...')\n",
    "  reader = ActsReader('../ustawy')\n",
    "  sources = [ {\n",
    "    '_index': INDEX_NAME,\n",
    "    '_source': {\n",
    "      'name': name, \n",
    "      'text': bill\n",
    "    }\n",
    "  } for name, _, bill in reader.all_acts() ]\n",
    "  \n",
    "  helpers.bulk(client, sources)\n",
    "    \n",
    "  print('Indexing completed.')\n",
    "  "
   ]
  },
  {
   "cell_type": "code",
   "execution_count": 5,
   "id": "c5174aa0",
   "metadata": {},
   "outputs": [
    {
     "name": "stdout",
     "output_type": "stream",
     "text": [
      "Elastic info\n",
      "{'name': '85ef8b70e41e', 'cluster_name': 'docker-cluster', 'cluster_uuid': '_woZQSdVTj6ABS-nYRXEgg', 'version': {'number': '7.10.1', 'build_flavor': 'default', 'build_type': 'docker', 'build_hash': '1c34507e66d7db1211f66f3513706fdf548736aa', 'build_date': '2020-12-05T01:00:33.671820Z', 'build_snapshot': False, 'lucene_version': '8.7.0', 'minimum_wire_compatibility_version': '6.8.0', 'minimum_index_compatibility_version': '6.0.0-beta1'}, 'tagline': 'You Know, for Search'}\n",
      "Index polish-bills already exists. Skipping...\n",
      "Some docs were already indexed. Skipping...\n"
     ]
    }
   ],
   "source": [
    "client = Elasticsearch(\"http://localhost:9200\")\n",
    "\n",
    "resp = client.info()\n",
    "\n",
    "print(\"Elastic info\")\n",
    "print(resp)\n",
    "\n",
    "create_index(client)\n",
    "index_bills(client)  "
   ]
  },
  {
   "cell_type": "markdown",
   "id": "50516f86",
   "metadata": {},
   "source": [
    "### Number of acts containing word 'ustawa'"
   ]
  },
  {
   "cell_type": "code",
   "execution_count": null,
   "id": "952314ce",
   "metadata": {},
   "outputs": [],
   "source": []
  },
  {
   "cell_type": "markdown",
   "id": "0b9b24d9",
   "metadata": {},
   "source": [
    "### Most relevant docs for word 'konstytucja'"
   ]
  },
  {
   "cell_type": "code",
   "execution_count": 30,
   "id": "807118ee",
   "metadata": {},
   "outputs": [
    {
     "name": "stdout",
     "output_type": "stream",
     "text": [
      "{'took': 2, 'timed_out': False, '_shards': {'total': 1, 'successful': 1, 'skipped': 0, 'failed': 0}, 'hits': {'total': {'value': 2, 'relation': 'eq'}, 'max_score': 9.633655, 'hits': [{'_index': 'polish-bills', '_type': '_doc', '_id': '8y8GznwBoO7ZI9TtemPt', '_score': 9.633655, '_source': {'name': '1997_629.txt', 'text': '\\n\\n\\n\\nDz.U. z 1994 r. Nr 61, poz. 251\\n                         USTAWA  KONSTYTUCYJNA\\n                       z dnia 22 kwietnia 1994 r.\\n                                    \\n         o zmianie ustawy konstytucyjnej o trybie przygotowania\\n           i uchwalenia Konstytucji Rzeczypospolitej Polskiej\\n                                    \\n                                    \\n                                Art. 1.\\nW ustawie  konstytucyjnej z  dnia 23 kwietnia 1992 r. o trybie przygotowania i \\nuchwalenia Konstytucji Rzeczypospolitej Polskiej (Dz.U. Nr 67, poz. 336) \\nwprowadza się następujące zmiany:\\n \\n 1) po art. 2 dodaje się art. 2a, art. 2b i art. 2c w brzmieniu:\\n   \"Art. 2a. 1. Inicjatywa ustawodawcza w zakresie przedstawienia\\n                Zgromadzeniu Narodowemu projektu nowej Konstytucji\\n                przysługuje również grupie obywateli, którzy dla\\n                swojego projektu uzyskają poparcie co najmniej\\n                500 000 osób posiadających czynne prawo wyborcze\\n                do Sejmu.\\n              2. Wykonanie inicjatywy ustawodawczej, o której mowa w \\n                ust. 1, jest dopuszczalne w terminie 3 miesięcy od dnia \\n                wejścia w życie ustawy.\\n    Art. 2b. 1. Zgłoszenia projektu, o którym mowa w art. 2a ust.1,\\n                dokonuje na piśmie pełnomocnik, którym jest osoba\\n                wskazana w pisemnym oświadczeniu pierwszych 15 wyborców,\\n                którzy udzielili poparcia projektowi Konstytucji.\\n              2. Do zgłoszenia projektu Konstytucji załącza się wykaz \\n                obywateli popierających zgłoszenie, zawierający czytelne \\n                wskazanie imion, nazwisk, wieku, adresów zamieszkania \\n                i numerów dowodu osobistego lub paszportu osób, które \\n                udzielają poparcia, składając na wykazie własnoręczny \\n                podpis; każda strona wykazu powinna być opatrzona \\n                adnotacją: \"Udzielam poparcia  projektowi Konstytucji \\n                Rzeczypospolitej Polskiej, zgłaszanemu przez  grupę  \\n                obywateli, których pełnomocnikiem jest \\n                  ............................................................................................\"\\n                                imię i nazwisko pełnomocnika.\\n              3. W razie uzasadnionych wątpliwości co do prawidłowości \\n                złożenia wymaganej liczby podpisów, o których mowa w \\n                art. 2a ust. 1, Komisja Konstytucyjna Zgromadzenia Narodowego\\n                zwraca się do Państwowej Komisji Wyborczej \\n                o stwierdzenie, najpóźniej w terminie 7 dni, czy jest złożona\\n                ustawowo wymagana liczba podpisów.\\n              4. Jeżeli po przeprowadzeniu postępowania, o którym mowa\\n                w ust. 3, prawidłowo złożona liczba podpisów popierających\\n                projekt jest mniejsza niż ustawowo wymagana, \\n                Komisja Konstytucyjna Zgromadzenia Narodowego odmawia\\n                przyjęcia projektu Konstytucji. Uchwałę w tej \\n                sprawie wraz z uzasadnieniem doręcza się niezwłocznie \\n                pełnomocnikowi.\\n              5. Uchwała, o której mowa w ust. 4, może być przez pełnomocnika\\n                zaskarżona do Sądu Najwyższego w terminie \\n                3 dni od daty doręczenia. Sąd Najwyższy rozpoznaje \\n                skargę w terminie 7 dni w postępowaniu nieprocesowym \\n                w składzie 3 sędziów. Od postanowienia Sądu Najwyższego\\n                nie przysługuje środek prawny.\\n    Art. 2c. 1. Zasady, na których opierać się ma Konstytucja mogą\\n                być poddane pod referendum.\\n              2. Zasady, przedmiot oraz tryb przeprowadzania referendum\\n                określa ustawa.\";\\n              \\n 2) po art. 12 dodaje się art. 12a w brzmieniu:\\n  \"Art. 12a. Projekty Konstytucji wniesione na podstawie i w trybie\\n             niniejszej ustawy podlegają rozpatrzeniu przez Komisję \\n             Konstytucyjną Zgromadzenia Narodowego bez względu na\\n             to, w której kadencji Sejmu i Senatu zostały zgłoszone.\".\\n                                Art. 2.\\nUstawa wchodzi w życie po upływie 14 dni od dnia ogłoszenia.\\n'}}, {'_index': 'polish-bills', '_type': '_doc', '_id': 'SS8GznwBoO7ZI9Ttf2Zl', '_score': 7.6440825, '_source': {'name': '1999_688.txt', 'text': '\\n\\n\\n\\nDz.U. z 1999 r. Nr 62, poz. 688\\n \\n                                       \\n                                                                              \\n                                                                              \\n                                                                              \\n                                    USTAWA\\n                           z dnia 24 czerwca 1999 r.\\n                                       \\n            o wykonywaniu inicjatywy ustawodawczej przez obywateli\\n                                       \\n                                       \\n                                    Art. 1.\\nUstawa reguluje tryb postępowania w sprawie wykonywania inicjatywy\\nustawodawczej przez obywateli, o której mowa w art. 118 ust. 2 Konstytucji\\nRzeczypospolitej Polskiej.\\n                                    Art. 2.\\nGrupa obywateli polskich, licząca co najmniej 100 000 osób, mających prawo\\nwybierania do Sejmu, może wystąpić z inicjatywą ustawodawczą przez złożenie\\npodpisów pod projektem ustawy.\\n                                    Art. 3.\\nProjekt ustawy nie może dotyczyć spraw, dla których Konstytucja\\nRzeczypospolitej Polskiej zastrzega wyłączną właściwość innych podmiotów,\\nktórym przysługuje inicjatywa ustawodawcza.\\n                                    Art. 4.\\n1. Projekt ustawy wniesiony do Marszałka Sejmu powinien odpowiadać wymogom\\n  zawartym w Konstytucji i Regulaminie Sejmu Rzeczypospolitej Polskiej oraz w\\n  niniejszej ustawie.\\n2. Wniesienie projektu ustawy nie stanowi przeszkody do wniesienia innego\\n  projektu, w tym także przez grupę obywateli, w tej samej sprawie.\\n3. Projekt ustawy w stosunku do którego postępowanie ustawodawcze nie zostało\\n  zakończone w trakcie kadencji Sejmu, w której został wniesiony, jest\\n  rozpatrywany przez Sejm następnej kadencji bez potrzeby ponownego wniesienia\\n  projektu ustawy. W takim wypadku Marszałek Sejmu zarządza ponowne drukowanie\\n  projektu ustawy oraz jego doręczenie posłom.\\n                                       \\n                                    Art. 5.\\n1. Czynności związane z przygotowaniem projektu ustawy, jego\\n  rozpowszechnianiem, kampanią promocyjną, a także organizacją zbierania\\n  podpisów obywateli popierających projekt wykonuje komitet inicjatywy\\n  ustawodawczej, zwany dalej \"komitetem\". Komitet występuje pod nazwą\\n  uzupełnioną o tytuł projektu ustawy.\\n2. Komitet może utworzyć grupa co najmniej 15 obywateli polskich, którzy mają\\n  prawo wybierania do Sejmu i złożyli pisemne oświadczenie o przystąpieniu do\\n  komitetu, ze wskazaniem imienia (imion) i nazwiska, adresu zamieszkania oraz\\n  numeru ewidencyjnego PESEL.\\n3. W imieniu i na rzecz komitetu występuje pełnomocnik komitetu lub jego\\n  zastępca, wskazani w pisemnym oświadczeniu pierwszych 15 osób tworzących\\n  komitet.\\n4. Komitet posiada osobowość prawną, którą nabywa z chwilą przyjęcia przez\\n  Marszałka Sejmu zawiadomienia, o którym mowa w art. 6 ust. 2.\\n                                    Art. 6.\\n1. Po zebraniu, zgodnie z wymogami zawartymi w art. 9 ust. 2, 1000 podpisów\\n  obywateli popierających projekt, pełnomocnik komitetu zawiadamia Marszałka\\n  Sejmu o utworzeniu komitetu. Podpisy, o których mowa w zdaniu pierwszym,\\n  stanowią część wymaganej liczby 100 000 podpisów osób popierających projekt.\\n2. W zawiadomieniu podaje się:\\n   1) pełną nazwę komitetu oraz dokładny adres jego siedziby,\\n   2) dane, o których mowa w art. 5 ust. 2,\\n   3) dane: imię (imiona), nazwisko, adres zamieszkania i numer ewidencyjny\\n     PESEL pełnomocnika komitetu oraz jego zastępcy.\\n3. Do zawiadomienia załącza się projekt ustawy, spełniający warunki, o\\n  których mowa w art. 4 ust. 1, wraz z załączonym wykazem 1000 podpisów\\n  obywateli popierających projekt.\\n4. Jeżeli zawiadomienie odpowiada warunkom określonym w ust. 2 i 3, Marszałek\\n  Sejmu, w terminie 14 dni od jego doręczenia, postanawia o przyjęciu\\n  zawiadomienia. Postanowienie o przyjęciu zawiadomienia doręcza się\\n  niezwłocznie pełnomocnikowi komitetu.\\n5. W wypadku stwierdzenia braków formalnych zawiadomienia, Marszałek Sejmu,\\n  nie później niż w terminie 14 dni od dnia otrzymania zawiadomienia, wzywa\\n  pełnomocnika komitetu do ich usunięcia w terminie 14 dni. Nieusunięcie\\n  braków powoduje odmowę przyjęcia zawiadomienia. Umotywowane postanowienie\\n  Marszałka Sejmu o odmowie przyjęcia zawiadomienia może być przez\\n  pełnomocnika komitetu zaskarżone do Sądu Najwyższego w terminie 14 dni od\\n  daty doręczenia. Sąd Najwyższy rozpatruje skargę w terminie 30 dni, w\\n  składzie 7 sędziów, w postępowaniu nieprocesowym. Od postanowienia Sądu\\n  Najwyższego nie przysługuje środek prawny.\\n                                    Art. 7.\\n1. Po otrzymaniu postanowienia, o którym mowa w art. 6 ust. 4, lub\\n  postanowienia Sądu Najwyższego uwzględniającego skargę, komitet ogłasza, w\\n  dzienniku o zasięgu ogólnopolskim, fakt nabycia osobowości prawnej, adres\\n  komitetu oraz miejsca udostępnienia projektu ustawy do publicznego wglądu.\\n2. Od dnia przyjęcia przez Marszałka Sejmu zawiadomienia, o którym mowa w\\n  art. 6 ust. 4, lub otrzymania przez komitet postanowienia Sądu Najwyższego\\n  uwzględniającego skargę, o której mowa w art. 6 ust. 5, do dnia wniesienia\\n  projektu ustawy, o którym mowa w art. 10 ust. 1,  treść projektu nie może\\n  być zmieniona.\\n                                    Art. 8.\\n1. Kampania promocyjna służy przedstawianiu i wyjaśnianiu przez komitet\\n  treści projektu ustawy, stanowiącego przedmiot inicjatywy ustawodawczej.\\n2. Kampania promocyjna na rzecz projektu ustawy oraz zbieranie podpisów\\n  obywateli popierających projekt ustawy, może rozpocząć się, po ogłoszeniu, o\\n  którym mowa w art. 7 ust. 1.\\n3. Do prowadzenia kampanii promocyjnej oraz do zbierania podpisów stosuje się\\n  odpowiednio przepisy ustawy z dnia 28 maja 1993 r. - Ordynacja wyborcza do\\n  Sejmu Rzeczypospolitej Polskiej (Dz.U. Nr 45, poz. 205, z 1995 r. Nr 132,\\n  poz. 640, z 1997 r. Nr 47, poz. 297, Nr 70, poz. 443, Nr 88, poz. 554, Nr\\n  98, poz. 604, Nr 121, poz. 770 oraz Nr 141, poz. 943), określające zasady\\n  przeprowadzania kampanii wyborczej, z wyłączeniem art. 142-148.\\n                                       \\n                                    Art. 9.\\n1. W miejscu zbierania podpisów obywateli, musi być wyłożony do wglądu\\n  projekt ustawy.\\n2. Obywatel udziela poparcia projektowi ustawy składając na wykazie, obok\\n  swojego imienia (imion) i nazwiska, adresu zamieszkania oraz numeru\\n  ewidencyjnego PESEL, własnoręczny podpis. Na każdej stronie wykazu musi\\n  znajdować się nazwa komitetu i tytuł projektu ustawy, której obywatel\\n  udziela poparcia.\\n3. Wycofanie poparcia udzielonego projektowi ustawy jest nieskuteczne.\\n4. Wzór wykazu, o którym mowa w ust. 2, ustala, w drodze rozporządzenia,\\n  Prezes Rady Ministrów po zasięgnięciu opinii Państwowej Komisji Wyborczej.\\n                                   Art. 10.\\n1. Pełnomocnik komitetu wnosi do Marszałka Sejmu projekt ustawy z załączonym\\n  wykazem podpisów obywateli popierających projekt.\\n2. Projekt ustawy wraz z załączonym wykazem podpisów obywateli popierających\\n  projekt nie może zostać wniesiony później niż 3 miesiące od daty\\n  postanowienia Marszałka Sejmu o przyjęciu zawiadomienia o utworzeniu\\n  komitetu lub postanowienia Sądu Najwyższego, o którym mowa w art. 7 ust. 1.\\n3. Jeżeli projekt ustawy został wniesiony, zgodnie z postanowieniami art. 7\\n  ust. 2, art. 9 ust. 2 oraz art. 10 ust. 2, Marszałek Sejmu kieruje projekt\\n  ustawy do pierwszego czytania w Sejmie i zawiadamia o tym pełnomocnika\\n  komitetu.\\n                                   Art. 11.\\n1. W wypadku stwierdzenia, że treść projektu ustawy lub uzasadnienia jest\\n  zmieniona Marszałek Sejmu, w drodze postanowienia, nie później niż w\\n  terminie 14 dni od dnia wniesienia projektu, odmawia jego przyjęcia.\\n2. Na umotywowane postanowienie Marszałka Sejmu pełnomocnikowi komitetu\\n  przysługuje skarga do Sądu Najwyższego. Przepisy art. 6 ust. 5 stosuje się\\n  odpowiednio.\\n                                   Art. 12.\\n1. W wypadku uzasadnionych wątpliwości co do prawidłowości złożenia wymaganej\\n  liczby podpisów obywateli w sposób, o którym mowa w art. 9 ust. 2, Marszałek\\n  Sejmu, nie później niż w terminie 14 dni od dnia wniesienia projektu, zwraca\\n  się do Państwowej Komisji Wyborczej o stwierdzenie, czy jest złożona\\n  wymagana liczba podpisów. Państwowa Komisja Wyborcza dokonuje czynności\\n  sprawdzających w terminie 21 dni. W postępowaniu przed Państwową Komisją\\n  Wyborczą jako obserwator może uczestniczyć pełnomocnik komitetu.\\n2. Jeżeli po przeprowadzeniu postępowania, o którym mowa w ust. 1, prawidłowo\\n  złożona liczba podpisów popierających projekt okaże się mniejsza niż\\n  ustawowo wymagana, Marszałek Sejmu odmawia nadania biegu projektowi ustawy.\\n  Postanowienie Marszałka Sejmu w tej sprawie wraz z uzasadnieniem doręcza się\\n  niezwłocznie pełnomocnikowi komitetu.\\n3. Postanowienie, o którym mowa w ust. 2, może być przez pełnomocnika\\n  komitetu zaskarżone do Sądu Najwyższego. Przepis art. 6 ust. 5 stosuje się\\n  odpowiednio.\\n                                   Art. 13.\\nPierwsze czytanie projektu ustawy na posiedzeniu Sejmu przeprowadza się w\\nterminie 3 miesięcy od daty wniesienia projektu ustawy do Marszałka Sejmu lub\\npostanowienia Sądu Najwyższego stwierdzającego prawidłowo złożoną liczbę\\npodpisów popierających projekt ustawy. W wypadku określonym w art. 4 ust. 3\\npierwsze czytanie odbywa się nie później niż w terminie 6 miesięcy od daty\\npierwszego posiedzenia Sejmu.\\n                                   Art. 14.\\n1. W pracach nad projektem ustawy komitet reprezentuje przedstawiciel lub\\n  osoba uprawniona do jego zastępstwa, powołana w trybie określonym w art. 5\\n  ust. 3 i art. 6 ust. 2 pkt 3.\\n2. Przedstawiciel jest uprawniony do udziału w pracach Sejmu i Senatu w\\n  trybie i na zasadach określonych odpowiednio w regulaminach Sejmu i Senatu.\\n                                   Art. 15.\\n1.Wydatki związane z wykonywaniem inicjatywy ustawodawczej przez obywateli\\n  pokrywa komitet.\\n2. Komitet może organizować zbiórki publiczne środków finansowych na cele\\n  związane z wykonywaniem obywatelskiej inicjatywy ustawodawczej, na zasadach\\n  i w trybie określonych w przepisach ustawy z dnia 15 marca 1933 r. o\\n  zbiórkach publicznych (Dz.U. Nr 22, poz. 162, z 1948 r. Nr 36, poz. 250, z\\n  1971 r. Nr 12, poz. 115, z 1989 r. Nr 29, poz. 154, z 1990 r. Nr 34, poz.\\n  198 oraz z 1998 r. Nr 106, poz. 668).\\n3. Organizowanie zbiórki publicznej nie wymaga pozwolenia.\\n                                   Art. 16.\\n1. Komitetowi nie mogą być przekazywane na cele, o których mowa w art. 15\\n  ust. 1, środki finansowe pochodzące:\\n   1) z budżetu państwa,\\n   2) od państwowych jednostek organizacyjnych,\\n   3) z budżetu jednostek samorządu terytorialnego, związków komunalnych i\\n     innych komunalnych osób prawnych,\\n   4) od przedsiębiorców państwowych, a także przedsiębiorców z udziałem\\n     Skarbu Państwa,  jednostek samorządu terytorialnego, związków komunalnych\\n     oraz innych komunalnych osób prawnych.\\n2. Zakaz, o którym mowa w ust. 1, dotyczy również środków finansowych\\n  pochodzących od:\\n   1) osób fizycznych nie mających miejsca zamieszkania na terenie\\n     Rzeczypospolitej Polskiej, z wyłączeniem obywateli polskich zamieszkałych\\n     za granicą,\\n   2) cudzoziemców mających miejsce zamieszkania na terenie Rzeczypospolitej\\n     Polskiej,\\n   3) osób prawnych nie mających siedziby na terenie Rzeczypospolitej\\n     Polskiej,\\n   4) innych podmiotów nie mających siedziby na terenie Rzeczypospolitej\\n     Polskiej, posiadających zdolność zaciągania zobowiązań i nabywania praw\\n     we własnym imieniu,\\n   5) osób prawnych z udziałem podmiotów zagranicznych,\\n   6) obcych przedstawicielstw dyplomatycznych, urzędów konsularnych, misji\\n     specjalnych i organizacji międzynarodowych oraz innych obcych\\n     przedstawicielstw korzystających z immunitetów i przywilejów\\n     dyplomatycznych i konsularnych na mocy umów, ustaw lub powszechnie\\n     ustalonych zwyczajów międzynarodowych.\\n3. Przepis ust. 1 i 2  stosuje się odpowiednio do wartości niepieniężnych.\\n                                       \\n                                   Art. 17.\\n1. Finansowanie wykonywania inicjatywy ustawodawczej przez obywateli jest\\n  jawne.\\n2. Pełnomocnik komitetu jest obowiązany do złożenia ministrowi właściwemu do\\n  spraw finansów publicznych sprawozdania finansowego o źródłach pozyskanych\\n  funduszy na cele inicjatywy ustawodawczej w terminie 3 miesięcy od dnia\\n  wniesienia do Marszałka Sejmu projektu ustawy, o którym mowa w art. 10 ust.\\n  1, lub postanowienia Sądu Najwyższego, o którym mowa w art. 12 ust. 3, a w\\n  wypadku wcześniejszego rozwiązania komitetu w terminie 3 miesięcy od dnia\\n  jego rozwiązania.\\n3. Wzór sprawozdania finansowego i szczegółowy zakres zawartych w nim\\n  informacji określa, w drodze rozporządzenia, minister właściwy do spraw\\n  finansów publicznych.\\n4. Sprawozdanie finansowe pełnomocnik komitetu podaje do publicznej\\n  wiadomości w dzienniku o zasięgu ogólnokrajowym w terminie, o którym mowa w\\n  ust. 2.\\n5. Pełnomocnik komitetu jest obowiązany do przechowywania dokumentów\\n  związanych z finansowaniem wykonywania inicjatywy ustawodawczej przez okres\\n  12 miesięcy od dnia publikacji sprawozdania finansowego.\\n6. Pełnomocnik komitetu, w wypadku uzyskania nadwyżki pozyskanych funduszy na\\n  cele inicjatywy ustawodawczej nad poniesionymi wydatkami, jest obowiązany\\n  przekazać tę nadwyżkę instytucji charytatywnej. Informację o przekazaniu\\n  nadwyżki zamieszcza się w sprawozdaniu finansowym.\\n                                       \\n                                   Art. 18.\\n1. Komitet ulega rozwiązaniu po upływie 3 miesięcy od daty:\\n   1) zakończenia postępowania ustawodawczego,\\n   2) postanowienia Marszałka Sejmu o odmowie nadania biegu projektowi ustawy\\n     lub postanowienia Sądu Najwyższego oddalającego zaskarżone postanowienie\\n     o odmowie nadania biegu projektowi ustawy,\\n   3) bezskutecznego upływu terminu, o którym mowa w art. 10 ust. 2.\\n2. W innych wypadkach komitet ulega rozwiązaniu po upływie 3 miesięcy od\\n  upływu terminu wskazanego w art. 17 ust. 2.\\n                                       \\n                                   Art. 19.\\nKto przemocą, groźbą bezprawną lub podstępem przeszkadza w wykonywaniu\\ninicjatywy ustawodawczej przez obywateli albo przez nadużycie stosunku\\nzależności wywiera wpływ na jej wykonywanie\\n - podlega karze pozbawienia wolności od 3 miesięcy do lat 5.\\n                                       \\n                                   Art. 20.\\nKto:\\n   1) nie dopełnia obowiązku opublikowania sprawozdania finansowego, o którym\\n     mowa w art. 17 ust. 2, albo podaje w nim nieprawdziwe dane,\\n   2) nie dopełnia obowiązku przechowywania dokumentów związanych z\\n     finansowaniem wykonywania inicjatywy ustawodawczej, o którym mowa w art.\\n     17 ust. 5,\\n   3) nie przekazuje instytucji charytatywnej nadwyżki środków finansowych, o\\n     której mowa w art. 17 ust. 6,\\n- podlega grzywnie, karze ograniczenia wolności albo pozbawienia wolności do\\nlat 3.\\n   \\n                                   Art. 21.\\nUstawa wchodzi w życie po upływie 30 dni od dnia ogłoszenia.\\n'}}]}}\n"
     ]
    }
   ],
   "source": [
    "response = client.search(index=INDEX_NAME, body={'query': {'match': { 'text': 'konstytucja' }}})\n",
    "print(response['h)\n",
    "for hit in response['hits']:\n",
    "    #print(json.loads(hit)['source']['name'])\n",
    "    pass"
   ]
  },
  {
   "cell_type": "code",
   "execution_count": null,
   "id": "9391803d",
   "metadata": {},
   "outputs": [],
   "source": []
  }
 ],
 "metadata": {
  "kernelspec": {
   "display_name": "Python 3",
   "language": "python",
   "name": "python3"
  },
  "language_info": {
   "codemirror_mode": {
    "name": "ipython",
    "version": 3
   },
   "file_extension": ".py",
   "mimetype": "text/x-python",
   "name": "python",
   "nbconvert_exporter": "python",
   "pygments_lexer": "ipython3",
   "version": "3.6.9"
  }
 },
 "nbformat": 4,
 "nbformat_minor": 5
}
