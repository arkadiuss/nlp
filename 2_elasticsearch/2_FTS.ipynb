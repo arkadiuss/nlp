{
 "cells": [
  {
   "cell_type": "markdown",
   "id": "269afdcb",
   "metadata": {},
   "source": [
    "### Preparation"
   ]
  },
  {
   "cell_type": "code",
   "execution_count": 1,
   "id": "7cf2162b",
   "metadata": {},
   "outputs": [],
   "source": [
    "from elasticsearch import Elasticsearch, helpers\n",
    "from nlp_common.acts_reader import ActsReader\n",
    "import json\n",
    "from elasticsearch_dsl import Search, Q\n",
    "import numpy as np\n",
    "\n",
    "INDEX_NAME = 'polish-bills'"
   ]
  },
  {
   "cell_type": "code",
   "execution_count": 2,
   "id": "a2004db8",
   "metadata": {},
   "outputs": [],
   "source": [
    "def create_index(client: Elasticsearch):\n",
    "  if client.indices.exists(INDEX_NAME):\n",
    "    print(f'Index {INDEX_NAME} already exists. Skipping...')\n",
    "    return\n",
    "  \n",
    "  print(f'Index {INDEX_NAME} doesn\\'t exists. Creating...')\n",
    "  client.indices.create(\n",
    "      index=INDEX_NAME,\n",
    "      body={\n",
    "        'settings': {\n",
    "          'number_of_shards': 1,\n",
    "          'number_of_replicas': 0,\n",
    "          'analysis': {\n",
    "            'analyzer': {\n",
    "              'default': {\n",
    "                'type': 'custom',\n",
    "                'tokenizer': 'standard',\n",
    "                'char_filter': [\n",
    "                  'kodeks_synonyms'\n",
    "                ],\n",
    "                'filter': [\n",
    "                  'morfologik_stem',\n",
    "                  'lowercase'\n",
    "                ]\n",
    "              }\n",
    "            },\n",
    "            'char_filter': {\n",
    "              'kodeks_synonyms': { \n",
    "                'type': 'mapping',\n",
    "                'mappings': [\n",
    "                  'kpk => kodeks postępowania karnego',\n",
    "                  'kpc => kodeks postępowania cywilnego',\n",
    "                  'kk => kodeks karny',\n",
    "                  'kc => kodeks cywilny'\n",
    "                ]\n",
    "              }\n",
    "            },\n",
    "          }\n",
    "        }\n",
    "      },\n",
    "    )\n",
    "\n",
    "\n",
    "def index_bills(client: Elasticsearch):\n",
    "  if client.indices.stats(INDEX_NAME)['_all']['primaries']['docs']['count'] > 0:\n",
    "    print('Some docs were already indexed. Skipping...')\n",
    "    return  \n",
    "  \n",
    "  print(f'Indexing bills...')\n",
    "  reader = ActsReader('../ustawy')\n",
    "  sources = [ {\n",
    "    '_index': INDEX_NAME,\n",
    "    '_source': {\n",
    "      'name': name, \n",
    "      'text': bill\n",
    "    }\n",
    "  } for name, _, bill in reader.all_acts() ]\n",
    "  \n",
    "  helpers.bulk(client, sources)\n",
    "    \n",
    "  print('Indexing completed.')\n",
    "  "
   ]
  },
  {
   "cell_type": "code",
   "execution_count": 3,
   "id": "c5174aa0",
   "metadata": {},
   "outputs": [
    {
     "name": "stdout",
     "output_type": "stream",
     "text": [
      "Elastic info\n",
      "{'name': '85ef8b70e41e', 'cluster_name': 'docker-cluster', 'cluster_uuid': '_woZQSdVTj6ABS-nYRXEgg', 'version': {'number': '7.10.1', 'build_flavor': 'default', 'build_type': 'docker', 'build_hash': '1c34507e66d7db1211f66f3513706fdf548736aa', 'build_date': '2020-12-05T01:00:33.671820Z', 'build_snapshot': False, 'lucene_version': '8.7.0', 'minimum_wire_compatibility_version': '6.8.0', 'minimum_index_compatibility_version': '6.0.0-beta1'}, 'tagline': 'You Know, for Search'}\n",
      "Index polish-bills already exists. Skipping...\n",
      "Some docs were already indexed. Skipping...\n"
     ]
    }
   ],
   "source": [
    "client = Elasticsearch(\"http://localhost:9200\")\n",
    "\n",
    "resp = client.info()\n",
    "\n",
    "print(\"Elastic info\")\n",
    "print(resp)\n",
    "\n",
    "create_index(client)\n",
    "index_bills(client)  "
   ]
  },
  {
   "cell_type": "markdown",
   "id": "50516f86",
   "metadata": {},
   "source": [
    "### Number of acts containing word 'ustawa'"
   ]
  },
  {
   "cell_type": "code",
   "execution_count": 4,
   "id": "53fe0c91",
   "metadata": {},
   "outputs": [
    {
     "data": {
      "text/plain": [
       "1178"
      ]
     },
     "execution_count": 4,
     "metadata": {},
     "output_type": "execute_result"
    }
   ],
   "source": [
    "s = Search(using=client, index=INDEX_NAME)\\\n",
    "        .query(\"match\", text=\"ustawa\")\n",
    "total = s.count()\n",
    "total"
   ]
  },
  {
   "cell_type": "markdown",
   "id": "585ced6d",
   "metadata": {},
   "source": [
    "#### act without 'ustawa' word?"
   ]
  },
  {
   "cell_type": "code",
   "execution_count": 5,
   "id": "a2fbdfb0",
   "metadata": {},
   "outputs": [
    {
     "name": "stdout",
     "output_type": "stream",
     "text": [
      "1996_400.txt\n",
      "\n",
      "\n",
      "\n",
      "\n",
      "\n",
      "Brak tekstu w postaci elektronicznej \n",
      "\n"
     ]
    }
   ],
   "source": [
    "s = Search(using=client, index=INDEX_NAME)\\\n",
    "        .query(\"match\", text=\"ustawa\")\n",
    "total = s.count()\n",
    "s = s[0:total]\n",
    "ids = [ hit.meta.id for hit in s.execute() ]\n",
    "\n",
    "s_not = Search(using=client, index=INDEX_NAME)\\\n",
    "    .filter('bool', must_not=[Q('ids', values=ids)])\n",
    "\n",
    "for hit in s_not.execute():\n",
    "    print(hit.name)\n",
    "    print(hit.text)"
   ]
  },
  {
   "cell_type": "markdown",
   "id": "2bec1389",
   "metadata": {},
   "source": [
    "Indeed it doesn't have 'ustawa' word"
   ]
  },
  {
   "cell_type": "markdown",
   "id": "32793487",
   "metadata": {},
   "source": [
    "### Number of occurences of word 'ustawa'"
   ]
  },
  {
   "cell_type": "code",
   "execution_count": 8,
   "id": "5cf5e00d",
   "metadata": {},
   "outputs": [],
   "source": [
    "def occurence_counter(base_word):\n",
    "    s = Search(using=client, index=INDEX_NAME)\\\n",
    "        .source(excludes=['*'])\n",
    "    total = s.count()\n",
    "    s = s[0:total]\n",
    "    ids_response = s.execute()\n",
    "\n",
    "    batch_size = 100\n",
    "    offset = 0\n",
    "    total_count = 0\n",
    "    for batch in range(0,int((total+batch_size-1)/batch_size)):\n",
    "        print(f'Analyzing batch {offset} - {offset + batch_size}')\n",
    "        ids = [ hit.meta.id for hit in ids_response[offset:offset+batch_size]]\n",
    "\n",
    "        response = client.mtermvectors(index=INDEX_NAME, ids=ids, fields='text')\n",
    "        for bill in response['docs']:\n",
    "            terms = bill['term_vectors']['text']['terms']\n",
    "            if base_word in terms:\n",
    "                total_count += terms[base_word]['term_freq']\n",
    "\n",
    "        offset += batch_size\n",
    "    \n",
    "    return total_count"
   ]
  },
  {
   "cell_type": "code",
   "execution_count": 9,
   "id": "952314ce",
   "metadata": {},
   "outputs": [
    {
     "name": "stdout",
     "output_type": "stream",
     "text": [
      "Analyzing batch 0 - 100\n",
      "Analyzing batch 100 - 200\n",
      "Analyzing batch 200 - 300\n",
      "Analyzing batch 300 - 400\n",
      "Analyzing batch 400 - 500\n",
      "Analyzing batch 500 - 600\n",
      "Analyzing batch 600 - 700\n",
      "Analyzing batch 700 - 800\n",
      "Analyzing batch 800 - 900\n",
      "Analyzing batch 900 - 1000\n",
      "Analyzing batch 1000 - 1100\n",
      "Analyzing batch 1100 - 1200\n"
     ]
    },
    {
     "data": {
      "text/plain": [
       "24934"
      ]
     },
     "execution_count": 9,
     "metadata": {},
     "output_type": "execute_result"
    }
   ],
   "source": [
    "res = occurence_counter('ustawa')\n",
    "res"
   ]
  },
  {
   "cell_type": "markdown",
   "id": "d0669d08",
   "metadata": {},
   "source": [
    "### Number of occurences of word 'ustaw'"
   ]
  },
  {
   "cell_type": "code",
   "execution_count": 10,
   "id": "c0d9f5bf",
   "metadata": {},
   "outputs": [
    {
     "name": "stdout",
     "output_type": "stream",
     "text": [
      "Analyzing batch 0 - 100\n",
      "Analyzing batch 100 - 200\n",
      "Analyzing batch 200 - 300\n",
      "Analyzing batch 300 - 400\n",
      "Analyzing batch 400 - 500\n",
      "Analyzing batch 500 - 600\n",
      "Analyzing batch 600 - 700\n",
      "Analyzing batch 700 - 800\n",
      "Analyzing batch 800 - 900\n",
      "Analyzing batch 900 - 1000\n",
      "Analyzing batch 1000 - 1100\n",
      "Analyzing batch 1100 - 1200\n",
      "0\n"
     ]
    }
   ],
   "source": [
    "res = occurence_counter('ustaw')\n",
    "res"
   ]
  },
  {
   "cell_type": "code",
   "execution_count": 11,
   "id": "de46b735",
   "metadata": {},
   "outputs": [
    {
     "name": "stdout",
     "output_type": "stream",
     "text": [
      "Analyzing batch 0 - 100\n",
      "Analyzing batch 100 - 200\n",
      "Analyzing batch 200 - 300\n",
      "Analyzing batch 300 - 400\n",
      "Analyzing batch 400 - 500\n",
      "Analyzing batch 500 - 600\n",
      "Analyzing batch 600 - 700\n",
      "Analyzing batch 700 - 800\n",
      "Analyzing batch 800 - 900\n",
      "Analyzing batch 900 - 1000\n",
      "Analyzing batch 1000 - 1100\n",
      "Analyzing batch 1100 - 1200\n"
     ]
    },
    {
     "data": {
      "text/plain": [
       "913"
      ]
     },
     "execution_count": 11,
     "metadata": {},
     "output_type": "execute_result"
    }
   ],
   "source": [
    "res = occurence_counter('ustawić')\n",
    "res"
   ]
  },
  {
   "cell_type": "markdown",
   "id": "2ee9da62",
   "metadata": {},
   "source": [
    "### Number of acts containing word 'kodeks postępowania cywilnego'"
   ]
  },
  {
   "cell_type": "code",
   "execution_count": 9,
   "id": "7b0e2d0e",
   "metadata": {},
   "outputs": [
    {
     "data": {
      "text/plain": [
       "654"
      ]
     },
     "execution_count": 9,
     "metadata": {},
     "output_type": "execute_result"
    }
   ],
   "source": [
    "s = Search(using=client, index=INDEX_NAME)\\\n",
    "        .query(Q()\"match\", text=\"kodeks postępowania cywilnego\")\n",
    "total = s.count()\n",
    "total"
   ]
  },
  {
   "cell_type": "markdown",
   "id": "77c2f287",
   "metadata": {},
   "source": [
    "### Number of acts containing word 'wchodzi w życie'"
   ]
  },
  {
   "cell_type": "code",
   "execution_count": 19,
   "id": "bb02a961",
   "metadata": {},
   "outputs": [
    {
     "data": {
      "text/plain": [
       "1174"
      ]
     },
     "execution_count": 19,
     "metadata": {},
     "output_type": "execute_result"
    }
   ],
   "source": [
    "s = Search(using=client, index=INDEX_NAME)\\\n",
    "        .query(\"match_phrase_prefix\", text={ 'query': \"wchodzi w życie\", 'slop': 2})\n",
    "total = s.count()\n",
    "total"
   ]
  },
  {
   "cell_type": "markdown",
   "id": "0b9b24d9",
   "metadata": {},
   "source": [
    "### Most relevant docs for word 'konstytucja'"
   ]
  },
  {
   "cell_type": "code",
   "execution_count": 18,
   "id": "807118ee",
   "metadata": {},
   "outputs": [
    {
     "name": "stdout",
     "output_type": "stream",
     "text": [
      "6.8693404 1997_629.txt\n",
      "6.664133 2000_443.txt\n",
      "6.6332603 1997_604.txt\n",
      "6.628133 1996_350.txt\n",
      "6.2529135 1997_642.txt\n",
      "6.0585814 2001_23.txt\n",
      "5.9285665 1996_199.txt\n",
      "5.8504066 1999_688.txt\n",
      "5.4670467 1997_681.txt\n",
      "5.412781 2001_1082.txt\n"
     ]
    }
   ],
   "source": [
    "s = Search(using=client, index=INDEX_NAME)\\\n",
    "        .query(\"match\", text=\"konstytucja\")\n",
    "\n",
    "response = s.execute()\n",
    "\n",
    "for hit in response:\n",
    "    print(hit.meta.score, hit.name)"
   ]
  },
  {
   "cell_type": "markdown",
   "id": "f698c73f",
   "metadata": {},
   "source": [
    "### Excerpts containing the word 'konstytucja'"
   ]
  },
  {
   "cell_type": "code",
   "execution_count": 19,
   "id": "9391803d",
   "metadata": {},
   "outputs": [
    {
     "name": "stdout",
     "output_type": "stream",
     "text": [
      "6.8693404 ['i uchwalenia <em>Konstytucji</em>', 'i \\nuchwalenia <em>Konstytucji</em>', 'projektu nowej <em>Konstytucji</em>']\n",
      "6.664133 ['1 i art. 90 <em>Konstytucji</em>', '1 lub art. 90 <em>Konstytucji</em>', '1 lub art. 90 <em>Konstytucji</em>']\n",
      "6.6332603 ['do zgodności z <em>Konstytucją</em>', 'politycznej z <em>Konstytucją</em>', 'sprzeczności z <em>Konstytucją</em>']\n",
      "6.628133 ['Za naruszenie <em>Konstytucji</em>', 'za naruszenie <em>Konstytucji</em>', 'za naruszenie <em>Konstytucji</em>']\n",
      "6.2529135 ['<em>Konstytucją</em>', 'organy państwowe, z <em>Konstytucją</em>', 'stwierdzenie zgodności z <em>Konstytucją</em>']\n",
      "6.0585814 ['ogłasza się:\\n   1) <em>Konstytucję</em>', 'zatwierdzającego zmianę <em>Konstytucji</em>', 'na określone w <em>Konstytucji</em>']\n",
      "5.9285665 ['przygotowania i uchwalenia <em>Konstytucji</em>', 'przygotowania i uchwalenia <em>Konstytucji</em>', 'zarządza poddanie <em>Konstytucji</em>']\n",
      "5.8504066 ['art. 118 ust. 2 <em>Konstytucji</em>', 'spraw, dla których <em>Konstytucja</em>', 'wymogom\\n  zawartym w <em>Konstytucji</em>']\n",
      "5.4670467 ['określonych w <em>Konstytucji</em>', 'dochowam wierności <em>Konstytucji</em>']\n",
      "5.412781 ['określone w\\n  <em>Konstytucji</em>', 'zbadanie zgodności z <em>Konstytucją</em>']\n"
     ]
    }
   ],
   "source": [
    "q= Q({\n",
    "    'fuzzy': {\n",
    "        'text': {\n",
    "            'value': 'konstytucja',\n",
    "            'fuzziness': 1\n",
    "        }\n",
    "    }\n",
    "})\n",
    "\n",
    "s = Search(using=client, index=INDEX_NAME)\\\n",
    "        .query(\"match\", text=\"konstytucja\")\\\n",
    "        .highlight('text', fragment_size=15)\n",
    "\n",
    "response = s.execute()\n",
    "\n",
    "for hit in response:\n",
    "    print(hit.meta.score, hit.meta.highlight.text[:3])"
   ]
  },
  {
   "cell_type": "code",
   "execution_count": null,
   "id": "f3ca6ce0",
   "metadata": {},
   "outputs": [],
   "source": []
  }
 ],
 "metadata": {
  "kernelspec": {
   "display_name": "Python 3",
   "language": "python",
   "name": "python3"
  },
  "language_info": {
   "codemirror_mode": {
    "name": "ipython",
    "version": 3
   },
   "file_extension": ".py",
   "mimetype": "text/x-python",
   "name": "python",
   "nbconvert_exporter": "python",
   "pygments_lexer": "ipython3",
   "version": "3.6.9"
  }
 },
 "nbformat": 4,
 "nbformat_minor": 5
}
