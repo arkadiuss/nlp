{
 "cells": [
  {
   "cell_type": "code",
   "execution_count": 95,
   "id": "ef4c81ed",
   "metadata": {},
   "outputs": [],
   "source": [
    "import spacy\n",
    "from nlp_common.acts_reader import ActsReader\n",
    "import regex\n",
    "from spacy.tokenizer import Tokenizer\n",
    "import numpy as np\n",
    "from collections import Counter\n",
    "import math\n",
    "import pandas as pd"
   ]
  },
  {
   "cell_type": "code",
   "execution_count": 85,
   "id": "d932d046",
   "metadata": {},
   "outputs": [],
   "source": [
    "acts_reader = ActsReader('../ustawy')\n",
    "bills = [ text for _, _, text in acts_reader.all_acts()]"
   ]
  },
  {
   "cell_type": "code",
   "execution_count": 86,
   "id": "10f87f07",
   "metadata": {},
   "outputs": [],
   "source": [
    "new_line_re = regex.compile(r'\\n+|\\s+')\n",
    "bills = [new_line_re.sub(' ', bill) for bill in bills]"
   ]
  },
  {
   "cell_type": "markdown",
   "id": "ecbf9d9a",
   "metadata": {},
   "source": [
    "### Tokenization"
   ]
  },
  {
   "cell_type": "code",
   "execution_count": 87,
   "id": "54ad3900",
   "metadata": {},
   "outputs": [],
   "source": [
    "nlp = spacy.load(\"pl_core_news_sm\")\n",
    "prefix_re = regex.compile(r'''^[\\[\\(\"'']+''')\n",
    "suffix_re = regex.compile(r'''[\\]\\)\"']+$''')\n",
    "nlp.tokenizer = Tokenizer(nlp.vocab, prefix_search=prefix_re.search, suffix_search=suffix_re.search)"
   ]
  },
  {
   "cell_type": "code",
   "execution_count": 88,
   "id": "fc6407f4",
   "metadata": {},
   "outputs": [],
   "source": [
    "bill_docs_tokenized = list(nlp.tokenizer.pipe(bills))"
   ]
  },
  {
   "cell_type": "markdown",
   "id": "e8b3da77",
   "metadata": {},
   "source": [
    "### Bigrams"
   ]
  },
  {
   "cell_type": "code",
   "execution_count": 120,
   "id": "1e00b601",
   "metadata": {},
   "outputs": [],
   "source": [
    "def single_tokens(tokens):\n",
    "    return [ str(token).lower() for token in tokens ]\n",
    "\n",
    "def bigrams(single_tokens):\n",
    "    return [(single_tokens[i], single_tokens[i+1]) for i in range(len(single_tokens) - 1)]\n",
    "\n",
    "bill_docs_single_tokens = [single_tokens(doc_tokens) for doc_tokens in bill_docs_tokenized]\n",
    "bill_docs_bigrams = [bigrams(doc_tokens) for doc_tokens in bill_docs_single_tokens]"
   ]
  },
  {
   "cell_type": "code",
   "execution_count": 121,
   "id": "cf9d4fdf",
   "metadata": {},
   "outputs": [
    {
     "data": {
      "text/plain": [
       "[(' ', 'tekst'),\n",
       " ('tekst', 'ustawy'),\n",
       " ('ustawy', 'ustalony'),\n",
       " ('ustalony', 'ostatecznie'),\n",
       " ('ostatecznie', 'po'),\n",
       " ('po', 'rozpatrzeniu'),\n",
       " ('rozpatrzeniu', 'poprawek'),\n",
       " ('poprawek', 'senatu'),\n",
       " ('senatu', ' '),\n",
       " (' ', 'ustawa')]"
      ]
     },
     "execution_count": 121,
     "metadata": {},
     "output_type": "execute_result"
    }
   ],
   "source": [
    "bill_docs_bigrams[0][:10]"
   ]
  },
  {
   "cell_type": "code",
   "execution_count": 122,
   "id": "e15c8fc6",
   "metadata": {},
   "outputs": [],
   "source": [
    "filter_bigrams_regex = regex.compile(r'^\\p{L}+$')\n",
    "def filter_bigrams(doc_bigrams):\n",
    "    return [b for b in doc_bigrams \n",
    "            if filter_bigrams_regex.match(b[0]) \n",
    "            and filter_bigrams_regex.match(b[1])]\n",
    "\n",
    "bill_docs_bigrams = [filter_bigrams(b) for b in bill_docs_bigrams]"
   ]
  },
  {
   "cell_type": "code",
   "execution_count": 123,
   "id": "b5dd311b",
   "metadata": {},
   "outputs": [
    {
     "data": {
      "text/plain": [
       "[('tekst', 'ustawy'),\n",
       " ('ustawy', 'ustalony'),\n",
       " ('ustalony', 'ostatecznie'),\n",
       " ('ostatecznie', 'po'),\n",
       " ('po', 'rozpatrzeniu'),\n",
       " ('rozpatrzeniu', 'poprawek'),\n",
       " ('poprawek', 'senatu'),\n",
       " ('ustawa', 'z'),\n",
       " ('z', 'dnia'),\n",
       " ('o', 'zmianie')]"
      ]
     },
     "execution_count": 123,
     "metadata": {},
     "output_type": "execute_result"
    }
   ],
   "source": [
    "bill_docs_bigrams[0][:10]"
   ]
  },
  {
   "cell_type": "markdown",
   "id": "5129c26f",
   "metadata": {},
   "source": [
    "### PMI"
   ]
  },
  {
   "cell_type": "code",
   "execution_count": 124,
   "id": "84fcf876",
   "metadata": {},
   "outputs": [],
   "source": [
    "def compute_global_counter(ctrs): \n",
    "    global_counter = Counter()\n",
    "    for ctr in ctrs:\n",
    "        global_counter += ctr\n",
    "    return global_counter\n",
    "\n",
    "def probabilities(bigrams):\n",
    "    ctrs = [Counter(doc) for doc in bigrams]\n",
    "    global_counter = compute_global_counter(ctrs)\n",
    "    l = len(global_counter)\n",
    "    return { k: global_counter[k]/l for k in global_counter}, global_counter\n",
    "\n",
    "p, pctr = probabilities(bill_docs_single_tokens)\n",
    "pm, pmctr = probabilities(bill_docs_bigrams)"
   ]
  },
  {
   "cell_type": "code",
   "execution_count": 128,
   "id": "603542a5",
   "metadata": {},
   "outputs": [],
   "source": [
    "    #return { b, math.log(pm[b]/(p[b[0]]*p[b[1]]))) for b in pm }\n",
    "df = pd.DataFrame(data=[(k,) for k in pm.keys()], columns = [\"bigram\"])\n",
    "df[\"p(a)\"] = df[\"bigram\"].apply(lambda x: p[x[0]])\n",
    "df[\"p(b)\"] = df[\"bigram\"].apply(lambda x: p[x[1]])\n",
    "df[\"p(a,b)\"] = df[\"bigram\"].apply(lambda x: pm[x])\n",
    "df[\"pmi\"] = np.log(df[\"p(a,b)\"]/ (df[\"p(a)\"]*df[\"p(b)\"]))"
   ]
  },
  {
   "cell_type": "code",
   "execution_count": 135,
   "id": "7c3467ac",
   "metadata": {},
   "outputs": [],
   "source": [
    "df = df.sort_values([\"pmi\"], ascending=[0])"
   ]
  },
  {
   "cell_type": "code",
   "execution_count": 136,
   "id": "9ef310cd",
   "metadata": {},
   "outputs": [
    {
     "data": {
      "text/html": [
       "<div>\n",
       "<style scoped>\n",
       "    .dataframe tbody tr th:only-of-type {\n",
       "        vertical-align: middle;\n",
       "    }\n",
       "\n",
       "    .dataframe tbody tr th {\n",
       "        vertical-align: top;\n",
       "    }\n",
       "\n",
       "    .dataframe thead th {\n",
       "        text-align: right;\n",
       "    }\n",
       "</style>\n",
       "<table border=\"1\" class=\"dataframe\">\n",
       "  <thead>\n",
       "    <tr style=\"text-align: right;\">\n",
       "      <th></th>\n",
       "      <th>bigram</th>\n",
       "      <th>p(a)</th>\n",
       "      <th>p(b)</th>\n",
       "      <th>p(a,b)</th>\n",
       "      <th>pmi</th>\n",
       "    </tr>\n",
       "  </thead>\n",
       "  <tbody>\n",
       "    <tr>\n",
       "      <th>555</th>\n",
       "      <td>(mowa, w)</td>\n",
       "      <td>0.232942</td>\n",
       "      <td>1.627879</td>\n",
       "      <td>0.061650</td>\n",
       "      <td>-1.816598</td>\n",
       "    </tr>\n",
       "    <tr>\n",
       "      <th>554</th>\n",
       "      <td>(których, mowa)</td>\n",
       "      <td>0.144970</td>\n",
       "      <td>0.232942</td>\n",
       "      <td>0.029295</td>\n",
       "      <td>-0.142140</td>\n",
       "    </tr>\n",
       "    <tr>\n",
       "      <th>553</th>\n",
       "      <td>(o, których)</td>\n",
       "      <td>0.521999</td>\n",
       "      <td>0.144970</td>\n",
       "      <td>0.029137</td>\n",
       "      <td>-0.954430</td>\n",
       "    </tr>\n",
       "    <tr>\n",
       "      <th>8</th>\n",
       "      <td>(z, dnia)</td>\n",
       "      <td>0.666524</td>\n",
       "      <td>0.142751</td>\n",
       "      <td>0.020688</td>\n",
       "      <td>-1.525888</td>\n",
       "    </tr>\n",
       "    <tr>\n",
       "      <th>616</th>\n",
       "      <td>(którym, mowa)</td>\n",
       "      <td>0.095286</td>\n",
       "      <td>0.232942</td>\n",
       "      <td>0.019570</td>\n",
       "      <td>-0.125938</td>\n",
       "    </tr>\n",
       "    <tr>\n",
       "      <th>...</th>\n",
       "      <td>...</td>\n",
       "      <td>...</td>\n",
       "      <td>...</td>\n",
       "      <td>...</td>\n",
       "      <td>...</td>\n",
       "    </tr>\n",
       "    <tr>\n",
       "      <th>438174</th>\n",
       "      <td>(liczba, stałych)</td>\n",
       "      <td>0.002511</td>\n",
       "      <td>0.000850</td>\n",
       "      <td>0.000002</td>\n",
       "      <td>0.028105</td>\n",
       "    </tr>\n",
       "    <tr>\n",
       "      <th>269028</th>\n",
       "      <td>(stosując, dotychczasowe)</td>\n",
       "      <td>0.000931</td>\n",
       "      <td>0.002292</td>\n",
       "      <td>0.000002</td>\n",
       "      <td>0.028259</td>\n",
       "    </tr>\n",
       "    <tr>\n",
       "      <th>190720</th>\n",
       "      <td>(zasadach, przejrzystości)</td>\n",
       "      <td>0.014644</td>\n",
       "      <td>0.000146</td>\n",
       "      <td>0.000002</td>\n",
       "      <td>0.028289</td>\n",
       "    </tr>\n",
       "    <tr>\n",
       "      <th>298564</th>\n",
       "      <td>(wszelkie, przedmioty)</td>\n",
       "      <td>0.001831</td>\n",
       "      <td>0.001166</td>\n",
       "      <td>0.000002</td>\n",
       "      <td>0.028289</td>\n",
       "    </tr>\n",
       "    <tr>\n",
       "      <th>154933</th>\n",
       "      <td>(w, o)</td>\n",
       "      <td>1.627879</td>\n",
       "      <td>0.521999</td>\n",
       "      <td>0.000002</td>\n",
       "      <td>-12.865896</td>\n",
       "    </tr>\n",
       "  </tbody>\n",
       "</table>\n",
       "<p>455298 rows × 5 columns</p>\n",
       "</div>"
      ],
      "text/plain": [
       "                            bigram      p(a)      p(b)    p(a,b)        pmi\n",
       "555                      (mowa, w)  0.232942  1.627879  0.061650  -1.816598\n",
       "554                (których, mowa)  0.144970  0.232942  0.029295  -0.142140\n",
       "553                   (o, których)  0.521999  0.144970  0.029137  -0.954430\n",
       "8                        (z, dnia)  0.666524  0.142751  0.020688  -1.525888\n",
       "616                 (którym, mowa)  0.095286  0.232942  0.019570  -0.125938\n",
       "...                            ...       ...       ...       ...        ...\n",
       "438174           (liczba, stałych)  0.002511  0.000850  0.000002   0.028105\n",
       "269028   (stosując, dotychczasowe)  0.000931  0.002292  0.000002   0.028259\n",
       "190720  (zasadach, przejrzystości)  0.014644  0.000146  0.000002   0.028289\n",
       "298564      (wszelkie, przedmioty)  0.001831  0.001166  0.000002   0.028289\n",
       "154933                      (w, o)  1.627879  0.521999  0.000002 -12.865896\n",
       "\n",
       "[455298 rows x 5 columns]"
      ]
     },
     "execution_count": 136,
     "metadata": {},
     "output_type": "execute_result"
    }
   ],
   "source": [
    "df"
   ]
  },
  {
   "cell_type": "code",
   "execution_count": null,
   "id": "af14802b",
   "metadata": {},
   "outputs": [],
   "source": []
  }
 ],
 "metadata": {
  "kernelspec": {
   "display_name": "Python 3",
   "language": "python",
   "name": "python3"
  },
  "language_info": {
   "codemirror_mode": {
    "name": "ipython",
    "version": 3
   },
   "file_extension": ".py",
   "mimetype": "text/x-python",
   "name": "python",
   "nbconvert_exporter": "python",
   "pygments_lexer": "ipython3",
   "version": "3.6.9"
  }
 },
 "nbformat": 4,
 "nbformat_minor": 5
}
