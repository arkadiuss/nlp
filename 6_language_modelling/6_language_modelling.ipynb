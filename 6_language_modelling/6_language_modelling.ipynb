{
 "cells": [
  {
   "cell_type": "code",
   "execution_count": 1,
   "id": "182123f5",
   "metadata": {},
   "outputs": [],
   "source": [
    "from transformers import pipeline\n",
    "from IPython.display import display, Markdown"
   ]
  },
  {
   "cell_type": "markdown",
   "id": "038d3e55",
   "metadata": {},
   "source": [
    "## Init"
   ]
  },
  {
   "cell_type": "code",
   "execution_count": 2,
   "id": "a3edf3d2",
   "metadata": {},
   "outputs": [
    {
     "name": "stderr",
     "output_type": "stream",
     "text": [
      "Some weights of the model checkpoint at allegro/herbert-base-cased were not used when initializing BertForMaskedLM: ['cls.sso.sso_relationship.bias', 'cls.sso.sso_relationship.weight']\n",
      "- This IS expected if you are initializing BertForMaskedLM from the checkpoint of a model trained on another task or with another architecture (e.g. initializing a BertForSequenceClassification model from a BertForPreTraining model).\n",
      "- This IS NOT expected if you are initializing BertForMaskedLM from the checkpoint of a model that you expect to be exactly identical (initializing a BertForSequenceClassification model from a BertForSequenceClassification model).\n"
     ]
    }
   ],
   "source": [
    "unmasker_herbert = pipeline(\"fill-mask\", model=\"allegro/herbert-base-cased\")"
   ]
  },
  {
   "cell_type": "code",
   "execution_count": 3,
   "id": "3b7b8766",
   "metadata": {},
   "outputs": [
    {
     "name": "stderr",
     "output_type": "stream",
     "text": [
      "Some weights of the model checkpoint at dkleczek/bert-base-polish-cased-v1 were not used when initializing BertForMaskedLM: ['cls.seq_relationship.weight', 'cls.seq_relationship.bias']\n",
      "- This IS expected if you are initializing BertForMaskedLM from the checkpoint of a model trained on another task or with another architecture (e.g. initializing a BertForSequenceClassification model from a BertForPreTraining model).\n",
      "- This IS NOT expected if you are initializing BertForMaskedLM from the checkpoint of a model that you expect to be exactly identical (initializing a BertForSequenceClassification model from a BertForSequenceClassification model).\n"
     ]
    }
   ],
   "source": [
    "unmasker_bert = pipeline(\"fill-mask\", model=\"dkleczek/bert-base-polish-cased-v1\")"
   ]
  },
  {
   "cell_type": "code",
   "execution_count": 4,
   "id": "84143b74",
   "metadata": {},
   "outputs": [],
   "source": [
    "unmasker_distilbert = pipeline(\"fill-mask\", model=\"Geotrend/distilbert-base-pl-cased\")"
   ]
  },
  {
   "cell_type": "code",
   "execution_count": 5,
   "id": "71a4dc9e",
   "metadata": {},
   "outputs": [],
   "source": [
    "models = [ (unmasker_herbert, \"herbert\"), (unmasker_bert, \"bert\"), (unmasker_distilbert, \"distilbert\") ]"
   ]
  },
  {
   "cell_type": "markdown",
   "id": "5f46634a",
   "metadata": {},
   "source": [
    "## Grammatical Case Sentences\n",
    "(M) Warszawa to największe [MASK].\\\n",
    "(D) Te zabawki należą do [MASK].\\\n",
    "(C) Policjant przygląda się [MASK].\\\n",
    "(B) Na środku skrzyżowania widać [MASK].\\\n",
    "(N) Właściciel samochodu widział złodzieja z [MASK].\\\n",
    "(Ms) Prezydent z premierem rozmawiali wczoraj o [MASK].\\\n",
    "(W) Witaj drogi [MASK]."
   ]
  },
  {
   "cell_type": "code",
   "execution_count": 6,
   "id": "5bde147c",
   "metadata": {},
   "outputs": [],
   "source": [
    "MASK_TOKEN = \"[TOKEN]\"\n",
    "\n",
    "def evaluate_model(sentence, umasker_model):\n",
    "    return umasker_model(sentence)\n",
    "\n",
    "def evaluate_models(sentence, models):\n",
    "    for ummodel, name in models:\n",
    "        display(Markdown('#### '+name))\n",
    "        masked_sentence = sentence.replace(MASK_TOKEN, ummodel.tokenizer.mask_token)\n",
    "        best_ans = evaluate_model(masked_sentence, ummodel)[:5]\n",
    "        best_ans_str = map(lambda f: f\"{f['sequence']}\\t\\t{f['score']}\", best_ans)\n",
    "        print('\\n'.join(best_ans_str))\n",
    "\n",
    "def evaluate_sentences(sentences, models):\n",
    "    for sentence in sentences:\n",
    "        display(Markdown(f\"### Evaluating: {sentence}\"))\n",
    "        evaluate_models(sentence, models)"
   ]
  },
  {
   "cell_type": "code",
   "execution_count": 7,
   "id": "d2a955c8",
   "metadata": {
    "scrolled": false
   },
   "outputs": [
    {
     "data": {
      "text/markdown": [
       "### Evaluating: Warszawa to największe [TOKEN]."
      ],
      "text/plain": [
       "<IPython.core.display.Markdown object>"
      ]
     },
     "metadata": {},
     "output_type": "display_data"
    },
    {
     "data": {
      "text/markdown": [
       "#### herbert"
      ],
      "text/plain": [
       "<IPython.core.display.Markdown object>"
      ]
     },
     "metadata": {},
     "output_type": "display_data"
    },
    {
     "name": "stdout",
     "output_type": "stream",
     "text": [
      "Warszawa to największe miasto.\t\t0.8103950023651123\n",
      "Warszawa to największe lotnisko.\t\t0.08249199390411377\n",
      "Warszawa to największe centrum.\t\t0.02652076445519924\n",
      "Warszawa to największe miasta.\t\t0.017986927181482315\n",
      "Warszawa to największe atrakcje.\t\t0.005562830250710249\n"
     ]
    },
    {
     "data": {
      "text/markdown": [
       "#### bert"
      ],
      "text/plain": [
       "<IPython.core.display.Markdown object>"
      ]
     },
     "metadata": {},
     "output_type": "display_data"
    },
    {
     "name": "stdout",
     "output_type": "stream",
     "text": [
      "Warszawa to największe miasto.\t\t0.9553058743476868\n",
      "Warszawa to największe województwo.\t\t0.006508143153041601\n",
      "Warszawa to największe lotnisko.\t\t0.005074844229966402\n",
      "Warszawa to największe miasteczko.\t\t0.004880094435065985\n",
      "Warszawa to największe państwo.\t\t0.004011814948171377\n"
     ]
    },
    {
     "data": {
      "text/markdown": [
       "#### distilbert"
      ],
      "text/plain": [
       "<IPython.core.display.Markdown object>"
      ]
     },
     "metadata": {},
     "output_type": "display_data"
    },
    {
     "name": "stdout",
     "output_type": "stream",
     "text": [
      "Warszawa to największe miasto.\t\t0.6985588073730469\n",
      "Warszawa to największe miasta.\t\t0.08950246125459671\n",
      "Warszawa to największe Miasto.\t\t0.03916599974036217\n",
      "Warszawa to największe centrum.\t\t0.016345124691724777\n",
      "Warszawa to największe dzielnicy.\t\t0.013264858163893223\n"
     ]
    },
    {
     "data": {
      "text/markdown": [
       "### Evaluating: Te zabawki należą do [TOKEN]."
      ],
      "text/plain": [
       "<IPython.core.display.Markdown object>"
      ]
     },
     "metadata": {},
     "output_type": "display_data"
    },
    {
     "data": {
      "text/markdown": [
       "#### herbert"
      ],
      "text/plain": [
       "<IPython.core.display.Markdown object>"
      ]
     },
     "metadata": {},
     "output_type": "display_data"
    },
    {
     "name": "stdout",
     "output_type": "stream",
     "text": [
      "Te zabawki należą do rodziny.\t\t0.0833359807729721\n",
      "Te zabawki należą do nas.\t\t0.07163650542497635\n",
      "Te zabawki należą do nich.\t\t0.06476955860853195\n",
      "Te zabawki należą do najlepszych.\t\t0.062136389315128326\n",
      "Te zabawki należą do..\t\t0.04569815844297409\n"
     ]
    },
    {
     "data": {
      "text/markdown": [
       "#### bert"
      ],
      "text/plain": [
       "<IPython.core.display.Markdown object>"
      ]
     },
     "metadata": {},
     "output_type": "display_data"
    },
    {
     "name": "stdout",
     "output_type": "stream",
     "text": [
      "Te zabawki należą do ciebie.\t\t0.19078467786312103\n",
      "Te zabawki należą do mnie.\t\t0.1857418268918991\n",
      "Te zabawki należą do nas.\t\t0.05014022812247276\n",
      "Te zabawki należą do pana.\t\t0.03315545991063118\n",
      "Te zabawki należą do niego.\t\t0.02505095861852169\n"
     ]
    },
    {
     "data": {
      "text/markdown": [
       "#### distilbert"
      ],
      "text/plain": [
       "<IPython.core.display.Markdown object>"
      ]
     },
     "metadata": {},
     "output_type": "display_data"
    },
    {
     "name": "stdout",
     "output_type": "stream",
     "text": [
      "Te zabawki należą do klasyfikacji.\t\t0.09180326759815216\n",
      "Te zabawki należą do gry.\t\t0.03872612863779068\n",
      "Te zabawki należą do rodziny.\t\t0.02968529984354973\n",
      "Te zabawki należą do grupy.\t\t0.027729257941246033\n",
      "Te zabawki należą do zespołu.\t\t0.02668699063360691\n"
     ]
    },
    {
     "data": {
      "text/markdown": [
       "### Evaluating: Policjant przygląda się [TOKEN]."
      ],
      "text/plain": [
       "<IPython.core.display.Markdown object>"
      ]
     },
     "metadata": {},
     "output_type": "display_data"
    },
    {
     "data": {
      "text/markdown": [
       "#### herbert"
      ],
      "text/plain": [
       "<IPython.core.display.Markdown object>"
      ]
     },
     "metadata": {},
     "output_type": "display_data"
    },
    {
     "name": "stdout",
     "output_type": "stream",
     "text": [
      "Policjant przygląda się mężczyźnie.\t\t0.14210954308509827\n",
      "Policjant przygląda się kobiecie.\t\t0.08927589654922485\n",
      "Policjant przygląda się mu.\t\t0.07798375189304352\n",
      "Policjant przygląda się dziewczynie.\t\t0.05407796800136566\n",
      "Policjant przygląda się sprawie.\t\t0.04702714830636978\n"
     ]
    },
    {
     "data": {
      "text/markdown": [
       "#### bert"
      ],
      "text/plain": [
       "<IPython.core.display.Markdown object>"
      ]
     },
     "metadata": {},
     "output_type": "display_data"
    },
    {
     "name": "stdout",
     "output_type": "stream",
     "text": [
      "Policjant przygląda się temu.\t\t0.15562939643859863\n",
      "Policjant przygląda się sprawie.\t\t0.10590638220310211\n",
      "Policjant przygląda się im.\t\t0.04426174983382225\n",
      "Policjant przygląda się wszystkiemu.\t\t0.03768893703818321\n",
      "Policjant przygląda się panu.\t\t0.03690262883901596\n"
     ]
    },
    {
     "data": {
      "text/markdown": [
       "#### distilbert"
      ],
      "text/plain": [
       "<IPython.core.display.Markdown object>"
      ]
     },
     "metadata": {},
     "output_type": "display_data"
    },
    {
     "name": "stdout",
     "output_type": "stream",
     "text": [
      "Policjant przygląda się przeciwko.\t\t0.028363091871142387\n",
      "Policjant przygląda się LGBT.\t\t0.02539011649787426\n",
      "Policjant przygląda się walki.\t\t0.0209842249751091\n",
      "Policjant przygląda się nie.\t\t0.017033295705914497\n",
      "Policjant przygląda się ludzi.\t\t0.015886077657341957\n"
     ]
    },
    {
     "data": {
      "text/markdown": [
       "### Evaluating: Na środku skrzyżowania widać [TOKEN]."
      ],
      "text/plain": [
       "<IPython.core.display.Markdown object>"
      ]
     },
     "metadata": {},
     "output_type": "display_data"
    },
    {
     "data": {
      "text/markdown": [
       "#### herbert"
      ],
      "text/plain": [
       "<IPython.core.display.Markdown object>"
      ]
     },
     "metadata": {},
     "output_type": "display_data"
    },
    {
     "name": "stdout",
     "output_type": "stream",
     "text": [
      "Na środku skrzyżowania widać rondo.\t\t0.04156508296728134\n",
      "Na środku skrzyżowania widać samochody.\t\t0.033592186868190765\n",
      "Na środku skrzyżowania widać radiowóz.\t\t0.029607480391860008\n",
      "Na środku skrzyżowania widać samochód.\t\t0.026813512668013573\n",
      "Na środku skrzyżowania widać wiadukt.\t\t0.02188505046069622\n"
     ]
    },
    {
     "data": {
      "text/markdown": [
       "#### bert"
      ],
      "text/plain": [
       "<IPython.core.display.Markdown object>"
      ]
     },
     "metadata": {},
     "output_type": "display_data"
    },
    {
     "name": "stdout",
     "output_type": "stream",
     "text": [
      "Na środku skrzyżowania widać rzekę.\t\t0.05592972785234451\n",
      "Na środku skrzyżowania widać ulicę.\t\t0.04646577686071396\n",
      "Na środku skrzyżowania widać drzewa.\t\t0.029843300580978394\n",
      "Na środku skrzyżowania widać drogę.\t\t0.025307446718215942\n",
      "Na środku skrzyżowania widać las.\t\t0.02129337377846241\n"
     ]
    },
    {
     "data": {
      "text/markdown": [
       "#### distilbert"
      ],
      "text/plain": [
       "<IPython.core.display.Markdown object>"
      ]
     },
     "metadata": {},
     "output_type": "display_data"
    },
    {
     "name": "stdout",
     "output_type": "stream",
     "text": [
      "Na środku skrzyżowania widać wody.\t\t0.04051743075251579\n",
      "Na środku skrzyżowania widaćały.\t\t0.02319084294140339\n",
      "Na środku skrzyżowania widać miejsca.\t\t0.019159577786922455\n",
      "Na środku skrzyżowania widać brak.\t\t0.018739474937319756\n",
      "Na środku skrzyżowania widaćły.\t\t0.015900157392024994\n"
     ]
    },
    {
     "data": {
      "text/markdown": [
       "### Evaluating: Właściciel samochodu widział złodzieja z [TOKEN]."
      ],
      "text/plain": [
       "<IPython.core.display.Markdown object>"
      ]
     },
     "metadata": {},
     "output_type": "display_data"
    },
    {
     "data": {
      "text/markdown": [
       "#### herbert"
      ],
      "text/plain": [
       "<IPython.core.display.Markdown object>"
      ]
     },
     "metadata": {},
     "output_type": "display_data"
    },
    {
     "name": "stdout",
     "output_type": "stream",
     "text": [
      "Właściciel samochodu widział złodzieja z samochodu.\t\t0.07134420424699783\n",
      "Właściciel samochodu widział złodzieja z włamaniem.\t\t0.060669269412755966\n",
      "Właściciel samochodu widział złodzieja z auta.\t\t0.03344728797674179\n",
      "Właściciel samochodu widział złodzieja z kierowcą.\t\t0.027661370113492012\n",
      "Właściciel samochodu widział złodzieja z parkingu.\t\t0.026863349601626396\n"
     ]
    },
    {
     "data": {
      "text/markdown": [
       "#### bert"
      ],
      "text/plain": [
       "<IPython.core.display.Markdown object>"
      ]
     },
     "metadata": {},
     "output_type": "display_data"
    },
    {
     "name": "stdout",
     "output_type": "stream",
     "text": [
      "Właściciel samochodu widział złodzieja z bronią.\t\t0.18247674405574799\n",
      "Właściciel samochodu widział złodzieja z tyłu.\t\t0.08082474023103714\n",
      "Właściciel samochodu widział złodzieja z ulicy.\t\t0.04090377315878868\n",
      "Właściciel samochodu widział złodzieja z bliska.\t\t0.028885921463370323\n",
      "Właściciel samochodu widział złodzieja z zewnątrz.\t\t0.02216586098074913\n"
     ]
    },
    {
     "data": {
      "text/markdown": [
       "#### distilbert"
      ],
      "text/plain": [
       "<IPython.core.display.Markdown object>"
      ]
     },
     "metadata": {},
     "output_type": "display_data"
    },
    {
     "name": "stdout",
     "output_type": "stream",
     "text": [
      "Właściciel samochodu widział złodzieja z Warszawy.\t\t0.13469655811786652\n",
      "Właściciel samochodu widział złodzieja z pochodzenia.\t\t0.043958116322755814\n",
      "Właściciel samochodu widział złodzieja z Niemiec.\t\t0.03511570394039154\n",
      "Właściciel samochodu widział złodzieja z Łodzi.\t\t0.029652932658791542\n",
      "Właściciel samochodu widział złodzieja z Rosji.\t\t0.0245027095079422\n"
     ]
    },
    {
     "data": {
      "text/markdown": [
       "### Evaluating: Prezydent z premierem rozmawiali wczoraj o [TOKEN]."
      ],
      "text/plain": [
       "<IPython.core.display.Markdown object>"
      ]
     },
     "metadata": {},
     "output_type": "display_data"
    },
    {
     "data": {
      "text/markdown": [
       "#### herbert"
      ],
      "text/plain": [
       "<IPython.core.display.Markdown object>"
      ]
     },
     "metadata": {},
     "output_type": "display_data"
    },
    {
     "name": "stdout",
     "output_type": "stream",
     "text": [
      "Prezydent z premierem rozmawiali wczoraj o przyszłości.\t\t0.033482540398836136\n",
      "Prezydent z premierem rozmawiali wczoraj o Polsce.\t\t0.02936149574816227\n",
      "Prezydent z premierem rozmawiali wczoraj o bezpieczeństwie.\t\t0.028243351727724075\n",
      "Prezydent z premierem rozmawiali wczoraj o polityce.\t\t0.025227518752217293\n",
      "Prezydent z premierem rozmawiali wczoraj o Warszawie.\t\t0.023644879460334778\n"
     ]
    },
    {
     "data": {
      "text/markdown": [
       "#### bert"
      ],
      "text/plain": [
       "<IPython.core.display.Markdown object>"
      ]
     },
     "metadata": {},
     "output_type": "display_data"
    },
    {
     "name": "stdout",
     "output_type": "stream",
     "text": [
      "Prezydent z premierem rozmawiali wczoraj o tym.\t\t0.17878158390522003\n",
      "Prezydent z premierem rozmawiali wczoraj o Polsce.\t\t0.04206346720457077\n",
      "Prezydent z premierem rozmawiali wczoraj o budżecie.\t\t0.03967057168483734\n",
      "Prezydent z premierem rozmawiali wczoraj o ASF.\t\t0.03752078488469124\n",
      "Prezydent z premierem rozmawiali wczoraj o ustawie.\t\t0.02724410779774189\n"
     ]
    },
    {
     "data": {
      "text/markdown": [
       "#### distilbert"
      ],
      "text/plain": [
       "<IPython.core.display.Markdown object>"
      ]
     },
     "metadata": {},
     "output_type": "display_data"
    },
    {
     "name": "stdout",
     "output_type": "stream",
     "text": [
      "Prezydent z premierem rozmawiali wczoraj o prezydenta.\t\t0.10132688283920288\n",
      "Prezydent z premierem rozmawiali wczoraj o referendum.\t\t0.09290867298841476\n",
      "Prezydent z premierem rozmawiali wczoraj o władze.\t\t0.053506869822740555\n",
      "Prezydent z premierem rozmawiali wczoraj o premiera.\t\t0.02867402508854866\n",
      "Prezydent z premierem rozmawiali wczoraj o LGBT.\t\t0.028474319726228714\n"
     ]
    },
    {
     "data": {
      "text/markdown": [
       "### Evaluating: Witaj drogi [TOKEN]."
      ],
      "text/plain": [
       "<IPython.core.display.Markdown object>"
      ]
     },
     "metadata": {},
     "output_type": "display_data"
    },
    {
     "data": {
      "text/markdown": [
       "#### herbert"
      ],
      "text/plain": [
       "<IPython.core.display.Markdown object>"
      ]
     },
     "metadata": {},
     "output_type": "display_data"
    },
    {
     "name": "stdout",
     "output_type": "stream",
     "text": [
      "Witaj drogi Łukasz.\t\t0.052066851407289505\n",
      "Witaj drogi Boże.\t\t0.04442755877971649\n",
      "Witaj drogi człowieku.\t\t0.031571950763463974\n",
      "Witaj drogi Karol.\t\t0.02868962287902832\n",
      "Witaj drogi Marcin.\t\t0.021383196115493774\n"
     ]
    },
    {
     "data": {
      "text/markdown": [
       "#### bert"
      ],
      "text/plain": [
       "<IPython.core.display.Markdown object>"
      ]
     },
     "metadata": {},
     "output_type": "display_data"
    },
    {
     "name": "stdout",
     "output_type": "stream",
     "text": [
      "Witaj drogi chłopcze.\t\t0.10708712041378021\n",
      "Witaj drogi przyjacielu.\t\t0.08946747332811356\n",
      "Witaj drogi bracie.\t\t0.041904374957084656\n",
      "Witaj drogi kolego.\t\t0.03567584604024887\n",
      "Witaj drogi synu.\t\t0.034891653805971146\n"
     ]
    },
    {
     "data": {
      "text/markdown": [
       "#### distilbert"
      ],
      "text/plain": [
       "<IPython.core.display.Markdown object>"
      ]
     },
     "metadata": {},
     "output_type": "display_data"
    },
    {
     "name": "stdout",
     "output_type": "stream",
     "text": [
      "Witaj drogi drogi.\t\t0.03955933824181557\n",
      "Witaj drogi narodowej.\t\t0.025738487020134926\n",
      "Witaj drogi polskiej.\t\t0.015549941919744015\n",
      "Witaj drogiwej.\t\t0.015403548255562782\n",
      "Witaj drogi wschodniej.\t\t0.01382057461887598\n"
     ]
    }
   ],
   "source": [
    "sentences = [\n",
    "    f\"Warszawa to największe {MASK_TOKEN}.\",\n",
    "    f\"Te zabawki należą do {MASK_TOKEN}.\",\n",
    "    f\"Policjant przygląda się {MASK_TOKEN}.\",\n",
    "    f\"Na środku skrzyżowania widać {MASK_TOKEN}.\",\n",
    "    f\"Właściciel samochodu widział złodzieja z {MASK_TOKEN}.\",\n",
    "    f\"Prezydent z premierem rozmawiali wczoraj o {MASK_TOKEN}.\",\n",
    "    f\"Witaj drogi {MASK_TOKEN}.\"\n",
    "]\n",
    "\n",
    "evaluate_sentences(sentences, models)"
   ]
  },
  {
   "cell_type": "markdown",
   "id": "37c1171b",
   "metadata": {},
   "source": [
    "## \"Gdybym\" sentences\n",
    "Gdybym wiedział wtedy dokładnie to, co wiem teraz, to bym się nie [MASK].\\\n",
    "Gdybym wiedziała wtedy dokładnie to, co wiem teraz, to bym się nie [MASK].\n"
   ]
  },
  {
   "cell_type": "code",
   "execution_count": 8,
   "id": "e2389799",
   "metadata": {},
   "outputs": [
    {
     "data": {
      "text/markdown": [
       "### Evaluating: Gdybym wiedział wtedy dokładnie to, co wiem teraz, to bym się nie [TOKEN]."
      ],
      "text/plain": [
       "<IPython.core.display.Markdown object>"
      ]
     },
     "metadata": {},
     "output_type": "display_data"
    },
    {
     "data": {
      "text/markdown": [
       "#### herbert"
      ],
      "text/plain": [
       "<IPython.core.display.Markdown object>"
      ]
     },
     "metadata": {},
     "output_type": "display_data"
    },
    {
     "name": "stdout",
     "output_type": "stream",
     "text": [
      "Gdybym wiedział wtedy dokładnie to, co wiem teraz, to bym się nie poddał.\t\t0.11784490942955017\n",
      "Gdybym wiedział wtedy dokładnie to, co wiem teraz, to bym się nie zdziwił.\t\t0.08924290537834167\n",
      "Gdybym wiedział wtedy dokładnie to, co wiem teraz, to bym się nie dowiedział.\t\t0.08604370057582855\n",
      "Gdybym wiedział wtedy dokładnie to, co wiem teraz, to bym się nie zastanawiał.\t\t0.05854702368378639\n",
      "Gdybym wiedział wtedy dokładnie to, co wiem teraz, to bym się nie przyznał.\t\t0.051072634756565094\n"
     ]
    },
    {
     "data": {
      "text/markdown": [
       "#### bert"
      ],
      "text/plain": [
       "<IPython.core.display.Markdown object>"
      ]
     },
     "metadata": {},
     "output_type": "display_data"
    },
    {
     "name": "stdout",
     "output_type": "stream",
     "text": [
      "Gdybym wiedział wtedy dokładnie to, co wiem teraz, to bym się nie zgodził.\t\t0.16778035461902618\n",
      "Gdybym wiedział wtedy dokładnie to, co wiem teraz, to bym się nie bał.\t\t0.06955228000879288\n",
      "Gdybym wiedział wtedy dokładnie to, co wiem teraz, to bym się nie dowiedział.\t\t0.06697956472635269\n",
      "Gdybym wiedział wtedy dokładnie to, co wiem teraz, to bym się nie pojawił.\t\t0.06324417144060135\n",
      "Gdybym wiedział wtedy dokładnie to, co wiem teraz, to bym się nie zabił.\t\t0.06266851723194122\n"
     ]
    },
    {
     "data": {
      "text/markdown": [
       "#### distilbert"
      ],
      "text/plain": [
       "<IPython.core.display.Markdown object>"
      ]
     },
     "metadata": {},
     "output_type": "display_data"
    },
    {
     "name": "stdout",
     "output_type": "stream",
     "text": [
      "Gdybym wiedział wtedy dokładnie to, co wiem teraz, to bym się nie było.\t\t0.1598736196756363\n",
      "Gdybym wiedział wtedy dokładnie to, co wiem teraz, to bym się nie stanie.\t\t0.08419004827737808\n",
      "Gdybym wiedział wtedy dokładnie to, co wiem teraz, to bym się nie udało.\t\t0.0632275938987732\n",
      "Gdybym wiedział wtedy dokładnie to, co wiem teraz, to bym się nie tylko.\t\t0.03790418803691864\n",
      "Gdybym wiedział wtedy dokładnie to, co wiem teraz, to bym się nie odbył.\t\t0.01873672753572464\n"
     ]
    },
    {
     "data": {
      "text/markdown": [
       "### Evaluating: Gdybym wiedziała wtedy dokładnie to, co wiem teraz, to bym się nie [TOKEN]."
      ],
      "text/plain": [
       "<IPython.core.display.Markdown object>"
      ]
     },
     "metadata": {},
     "output_type": "display_data"
    },
    {
     "data": {
      "text/markdown": [
       "#### herbert"
      ],
      "text/plain": [
       "<IPython.core.display.Markdown object>"
      ]
     },
     "metadata": {},
     "output_type": "display_data"
    },
    {
     "name": "stdout",
     "output_type": "stream",
     "text": [
      "Gdybym wiedziała wtedy dokładnie to, co wiem teraz, to bym się nie dowiedziała.\t\t0.2564222514629364\n",
      "Gdybym wiedziała wtedy dokładnie to, co wiem teraz, to bym się nie przyznała.\t\t0.14438189566135406\n",
      "Gdybym wiedziała wtedy dokładnie to, co wiem teraz, to bym się nie bała.\t\t0.11880426853895187\n",
      "Gdybym wiedziała wtedy dokładnie to, co wiem teraz, to bym się nie zmieniła.\t\t0.07193319499492645\n",
      "Gdybym wiedziała wtedy dokładnie to, co wiem teraz, to bym się nie zgodziła.\t\t0.0586412250995636\n"
     ]
    },
    {
     "data": {
      "text/markdown": [
       "#### bert"
      ],
      "text/plain": [
       "<IPython.core.display.Markdown object>"
      ]
     },
     "metadata": {},
     "output_type": "display_data"
    },
    {
     "name": "stdout",
     "output_type": "stream",
     "text": [
      "Gdybym wiedziała wtedy dokładnie to, co wiem teraz, to bym się nie zgodziła.\t\t0.30042004585266113\n",
      "Gdybym wiedziała wtedy dokładnie to, co wiem teraz, to bym się nie bała.\t\t0.14670626819133759\n",
      "Gdybym wiedziała wtedy dokładnie to, co wiem teraz, to bym się nie dowiedziała.\t\t0.10883668810129166\n",
      "Gdybym wiedziała wtedy dokładnie to, co wiem teraz, to bym się nie pojawiła.\t\t0.07736910879611969\n",
      "Gdybym wiedziała wtedy dokładnie to, co wiem teraz, to bym się nie zabiła.\t\t0.07481027394533157\n"
     ]
    },
    {
     "data": {
      "text/markdown": [
       "#### distilbert"
      ],
      "text/plain": [
       "<IPython.core.display.Markdown object>"
      ]
     },
     "metadata": {},
     "output_type": "display_data"
    },
    {
     "name": "stdout",
     "output_type": "stream",
     "text": [
      "Gdybym wiedziała wtedy dokładnie to, co wiem teraz, to bym się nie było.\t\t0.1824844628572464\n",
      "Gdybym wiedziała wtedy dokładnie to, co wiem teraz, to bym się nie udało.\t\t0.08469732850790024\n",
      "Gdybym wiedziała wtedy dokładnie to, co wiem teraz, to bym się nie stanie.\t\t0.06681223213672638\n",
      "Gdybym wiedziała wtedy dokładnie to, co wiem teraz, to bym się nie tylko.\t\t0.032014910131692886\n",
      "Gdybym wiedziała wtedy dokładnie to, co wiem teraz, to bym się nie ma.\t\t0.02377212606370449\n"
     ]
    }
   ],
   "source": [
    "sentences = [\n",
    "    f\"Gdybym wiedział wtedy dokładnie to, co wiem teraz, to bym się nie {MASK_TOKEN}.\",\n",
    "    f\"Gdybym wiedziała wtedy dokładnie to, co wiem teraz, to bym się nie {MASK_TOKEN}.\"\n",
    "]\n",
    "\n",
    "evaluate_sentences(sentences, models)"
   ]
  },
  {
   "cell_type": "markdown",
   "id": "47ff0482",
   "metadata": {},
   "source": [
    "## Fact Sentences\n",
    "[MASK] wrze w temperaturze 100 stopni, a zamarza w temperaturze 0 stopni Celsjusza.\\\n",
    "W wakacje odwiedziłem [MASK], który jest stolicą Islandii.\\\n",
    "Informatyka na [MASK] należy do najlepszych kierunków w Polsce.\n"
   ]
  },
  {
   "cell_type": "code",
   "execution_count": 10,
   "id": "80b92d90",
   "metadata": {},
   "outputs": [
    {
     "data": {
      "text/markdown": [
       "### Evaluating: [TOKEN] wrze w temperaturze 100 stopni, a zamarza w temperaturze 0 stopni Celsjusza."
      ],
      "text/plain": [
       "<IPython.core.display.Markdown object>"
      ]
     },
     "metadata": {},
     "output_type": "display_data"
    },
    {
     "data": {
      "text/markdown": [
       "#### herbert"
      ],
      "text/plain": [
       "<IPython.core.display.Markdown object>"
      ]
     },
     "metadata": {},
     "output_type": "display_data"
    },
    {
     "name": "stdout",
     "output_type": "stream",
     "text": [
      "Woda wrze w temperaturze 100 stopni, a zamarza w temperaturze 0 stopni Celsjusza.\t\t0.3619919419288635\n",
      "Słońce wrze w temperaturze 100 stopni, a zamarza w temperaturze 0 stopni Celsjusza.\t\t0.04559851437807083\n",
      "Ziemia wrze w temperaturze 100 stopni, a zamarza w temperaturze 0 stopni Celsjusza.\t\t0.04044831544160843\n",
      "Następnie wrze w temperaturze 100 stopni, a zamarza w temperaturze 0 stopni Celsjusza.\t\t0.029730435460805893\n",
      "Ciało wrze w temperaturze 100 stopni, a zamarza w temperaturze 0 stopni Celsjusza.\t\t0.02254605107009411\n"
     ]
    },
    {
     "data": {
      "text/markdown": [
       "#### bert"
      ],
      "text/plain": [
       "<IPython.core.display.Markdown object>"
      ]
     },
     "metadata": {},
     "output_type": "display_data"
    },
    {
     "name": "stdout",
     "output_type": "stream",
     "text": [
      "Woda wrze w temperaturze 100 stopni, a zamarza w temperaturze 0 stopni Celsjusza.\t\t0.167125403881073\n",
      "Mięso wrze w temperaturze 100 stopni, a zamarza w temperaturze 0 stopni Celsjusza.\t\t0.06379467993974686\n",
      "Słońce wrze w temperaturze 100 stopni, a zamarza w temperaturze 0 stopni Celsjusza.\t\t0.06294798851013184\n",
      "Nie wrze w temperaturze 100 stopni, a zamarza w temperaturze 0 stopni Celsjusza.\t\t0.05818329378962517\n",
      "Ziemia wrze w temperaturze 100 stopni, a zamarza w temperaturze 0 stopni Celsjusza.\t\t0.03854728117585182\n"
     ]
    },
    {
     "data": {
      "text/markdown": [
       "#### distilbert"
      ],
      "text/plain": [
       "<IPython.core.display.Markdown object>"
      ]
     },
     "metadata": {},
     "output_type": "display_data"
    },
    {
     "name": "stdout",
     "output_type": "stream",
     "text": [
      "Na wrze w temperaturze 100 stopni, a zamarza w temperaturze 0 stopni Celsjusza.\t\t0.07191677391529083\n",
      "We wrze w temperaturze 100 stopni, a zamarza w temperaturze 0 stopni Celsjusza.\t\t0.05382804945111275\n",
      "Od wrze w temperaturze 100 stopni, a zamarza w temperaturze 0 stopni Celsjusza.\t\t0.0419539250433445\n",
      "Maja wrze w temperaturze 100 stopni, a zamarza w temperaturze 0 stopni Celsjusza.\t\t0.0390627346932888\n",
      "Zmarł wrze w temperaturze 100 stopni, a zamarza w temperaturze 0 stopni Celsjusza.\t\t0.03851768746972084\n"
     ]
    },
    {
     "data": {
      "text/markdown": [
       "### Evaluating: W wakacje odwiedziłem [TOKEN], który jest stolicą Islandii."
      ],
      "text/plain": [
       "<IPython.core.display.Markdown object>"
      ]
     },
     "metadata": {},
     "output_type": "display_data"
    },
    {
     "data": {
      "text/markdown": [
       "#### herbert"
      ],
      "text/plain": [
       "<IPython.core.display.Markdown object>"
      ]
     },
     "metadata": {},
     "output_type": "display_data"
    },
    {
     "name": "stdout",
     "output_type": "stream",
     "text": [
      "W wakacje odwiedziłem Kraków, który jest stolicą Islandii.\t\t0.15435504913330078\n",
      "W wakacje odwiedziłem Oslo, który jest stolicą Islandii.\t\t0.14198605716228485\n",
      "W wakacje odwiedziłem Londyn, który jest stolicą Islandii.\t\t0.05218754708766937\n",
      "W wakacje odwiedziłem Gdańsk, który jest stolicą Islandii.\t\t0.048521824181079865\n",
      "W wakacje odwiedziłem Toruń, który jest stolicą Islandii.\t\t0.02907756343483925\n"
     ]
    },
    {
     "data": {
      "text/markdown": [
       "#### bert"
      ],
      "text/plain": [
       "<IPython.core.display.Markdown object>"
      ]
     },
     "metadata": {},
     "output_type": "display_data"
    },
    {
     "name": "stdout",
     "output_type": "stream",
     "text": [
      "W wakacje odwiedziłem kraj, który jest stolicą Islandii.\t\t0.29018425941467285\n",
      "W wakacje odwiedziłem Cypr, który jest stolicą Islandii.\t\t0.045035939663648605\n",
      "W wakacje odwiedziłem Meksyk, który jest stolicą Islandii.\t\t0.03142372891306877\n",
      "W wakacje odwiedziłem Gibraltar, który jest stolicą Islandii.\t\t0.028165629133582115\n",
      "W wakacje odwiedziłem Wellington, który jest stolicą Islandii.\t\t0.026536082848906517\n"
     ]
    },
    {
     "data": {
      "text/markdown": [
       "#### distilbert"
      ],
      "text/plain": [
       "<IPython.core.display.Markdown object>"
      ]
     },
     "metadata": {},
     "output_type": "display_data"
    },
    {
     "name": "stdout",
     "output_type": "stream",
     "text": [
      "W wakacje odwiedziłem kraju, który jest stolicą Islandii.\t\t0.04946371167898178\n",
      "W wakacje odwiedziłem pochodzi, który jest stolicą Islandii.\t\t0.01846936158835888\n",
      "W wakacje odwiedziłem flag, który jest stolicą Islandii.\t\t0.017351115122437477\n",
      "W wakacje odwiedziłem wody, który jest stolicą Islandii.\t\t0.015321622602641582\n",
      "W wakacje odwiedziłem referendum, który jest stolicą Islandii.\t\t0.014857359230518341\n"
     ]
    },
    {
     "data": {
      "text/markdown": [
       "### Evaluating: Informatyka na [TOKEN] należy do najlepszych kierunków w Polsce."
      ],
      "text/plain": [
       "<IPython.core.display.Markdown object>"
      ]
     },
     "metadata": {},
     "output_type": "display_data"
    },
    {
     "data": {
      "text/markdown": [
       "#### herbert"
      ],
      "text/plain": [
       "<IPython.core.display.Markdown object>"
      ]
     },
     "metadata": {},
     "output_type": "display_data"
    },
    {
     "name": "stdout",
     "output_type": "stream",
     "text": [
      "Informatyka na pewno należy do najlepszych kierunków w Polsce.\t\t0.3519022464752197\n",
      "Informatyka na AGH należy do najlepszych kierunków w Polsce.\t\t0.07368846982717514\n",
      "Informatyka na UW należy do najlepszych kierunków w Polsce.\t\t0.04948342218995094\n",
      "Informatyka na studiach należy do najlepszych kierunków w Polsce.\t\t0.040828049182891846\n",
      "Informatyka na UMK należy do najlepszych kierunków w Polsce.\t\t0.03897861763834953\n"
     ]
    },
    {
     "data": {
      "text/markdown": [
       "#### bert"
      ],
      "text/plain": [
       "<IPython.core.display.Markdown object>"
      ]
     },
     "metadata": {},
     "output_type": "display_data"
    },
    {
     "name": "stdout",
     "output_type": "stream",
     "text": [
      "Informatyka na wsi należy do najlepszych kierunków w Polsce.\t\t0.10025089234113693\n",
      "Informatyka na świecie należy do najlepszych kierunków w Polsce.\t\t0.09419262409210205\n",
      "Informatyka na żywo należy do najlepszych kierunków w Polsce.\t\t0.0857362151145935\n",
      "Informatyka na pewno należy do najlepszych kierunków w Polsce.\t\t0.07408226281404495\n",
      "Informatyka na odległość należy do najlepszych kierunków w Polsce.\t\t0.03856080397963524\n"
     ]
    },
    {
     "data": {
      "text/markdown": [
       "#### distilbert"
      ],
      "text/plain": [
       "<IPython.core.display.Markdown object>"
      ]
     },
     "metadata": {},
     "output_type": "display_data"
    },
    {
     "name": "stdout",
     "output_type": "stream",
     "text": [
      "Informatyka na stacji należy do najlepszych kierunków w Polsce.\t\t0.30438029766082764\n",
      "Informatyka na Uniwersytecie należy do najlepszych kierunków w Polsce.\t\t0.03257318586111069\n",
      "Informatyka na Ziemi należy do najlepszych kierunków w Polsce.\t\t0.01626773364841938\n",
      "Informatyka na terenie należy do najlepszych kierunków w Polsce.\t\t0.011560886166989803\n",
      "Informatyka na ulicy należy do najlepszych kierunków w Polsce.\t\t0.011300485581159592\n"
     ]
    }
   ],
   "source": [
    "sentences = [\n",
    "    f\"{MASK_TOKEN} wrze w temperaturze 100 stopni, a zamarza w temperaturze 0 stopni Celsjusza.\",\n",
    "    f\"W wakacje odwiedziłem {MASK_TOKEN}, który jest stolicą Islandii.\",\n",
    "    f\"Informatyka na {MASK_TOKEN} należy do najlepszych kierunków w Polsce.\"\n",
    "]\n",
    "\n",
    "evaluate_sentences(sentences, models)"
   ]
  },
  {
   "cell_type": "markdown",
   "id": "b9678eb3",
   "metadata": {},
   "source": [
    "## Questions\n",
    "\n",
    "\n",
    "##### Which of the models produced the best results?\n",
    "allegro/herbert-base-cased\n",
    "\n",
    "##### Was any of the models able to capture Polish grammar?\n",
    "Yes! Almost all of them, e.g. wiedziała - zgodziła. Only \"Geotrend/distilbert-base-pl-cased\" had problems\n",
    "\n",
    "##### Was any of the models able to capture long-distant relationships between the words?\n",
    "Yes! AGH - UW - UMK\n",
    "\n",
    "##### Was any of the models able to capture world knowledge?\n",
    "For the water it was possible because the score is much higher for water than for other, but all models failed while checking what is the capital of Iceland.\n",
    "\n",
    "##### What are the most striking errors made by the models?\n",
    "\"Informatyka na UW należy do najlepszych kierunków w Polsce.\"\n",
    "\n",
    "...\n",
    "\n",
    "\n",
    "\"Gdybym wiedział wtedy dokładnie to, co wiem teraz, to bym się nie zabił.\"\n",
    "\"Policjant przygląda się nie.\" - not gramatically correct"
   ]
  },
  {
   "cell_type": "code",
   "execution_count": null,
   "id": "cd25e7e0",
   "metadata": {},
   "outputs": [],
   "source": []
  }
 ],
 "metadata": {
  "kernelspec": {
   "display_name": "Python 3",
   "language": "python",
   "name": "python3"
  },
  "language_info": {
   "codemirror_mode": {
    "name": "ipython",
    "version": 3
   },
   "file_extension": ".py",
   "mimetype": "text/x-python",
   "name": "python",
   "nbconvert_exporter": "python",
   "pygments_lexer": "ipython3",
   "version": "3.6.9"
  }
 },
 "nbformat": 4,
 "nbformat_minor": 5
}
