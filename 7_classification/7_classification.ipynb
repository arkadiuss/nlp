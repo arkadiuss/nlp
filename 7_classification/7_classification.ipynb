{
 "cells": [
  {
   "cell_type": "code",
   "execution_count": 65,
   "id": "4a018c1b",
   "metadata": {},
   "outputs": [],
   "source": [
    "from datasets import load_dataset\n",
    "from sklearn.feature_extraction.text import TfidfVectorizer\n",
    "from sklearn.naive_bayes import GaussianNB\n",
    "from sklearn.metrics import accuracy_score\n",
    "import fasttext"
   ]
  },
  {
   "cell_type": "code",
   "execution_count": 64,
   "id": "fe72e73a",
   "metadata": {},
   "outputs": [
    {
     "name": "stderr",
     "output_type": "stream",
     "text": [
      "Reusing dataset poleval2019_cyber_bullying (/home/arkadius/.cache/huggingface/datasets/poleval2019_cyber_bullying/task01/1.0.0/ce6060c56dae43c469bab309a7573b86299b0bcc2484e85cfe0ae70b5f770450)\n"
     ]
    },
    {
     "data": {
      "application/vnd.jupyter.widget-view+json": {
       "model_id": "0c5d988065344eac9528e382d889a31c",
       "version_major": 2,
       "version_minor": 0
      },
      "text/plain": [
       "  0%|          | 0/2 [00:00<?, ?it/s]"
      ]
     },
     "metadata": {},
     "output_type": "display_data"
    },
    {
     "name": "stderr",
     "output_type": "stream",
     "text": [
      "Reusing dataset poleval2019_cyber_bullying (/home/arkadius/.cache/huggingface/datasets/poleval2019_cyber_bullying/task02/1.0.0/ce6060c56dae43c469bab309a7573b86299b0bcc2484e85cfe0ae70b5f770450)\n"
     ]
    },
    {
     "data": {
      "application/vnd.jupyter.widget-view+json": {
       "model_id": "2f9cebc0c8d34784a95fb10f387a14ed",
       "version_major": 2,
       "version_minor": 0
      },
      "text/plain": [
       "  0%|          | 0/2 [00:00<?, ?it/s]"
      ]
     },
     "metadata": {},
     "output_type": "display_data"
    }
   ],
   "source": [
    "dataset01 = load_dataset(\"poleval2019_cyberbullying\", \"task01\")\n",
    "dataset02 = load_dataset(\"poleval2019_cyberbullying\", \"task02\")"
   ]
  },
  {
   "cell_type": "code",
   "execution_count": 44,
   "id": "abd9a9ea",
   "metadata": {},
   "outputs": [],
   "source": [
    "train_dataset01 = dataset01['train']\n",
    "test_dataset01 = dataset01['test']\n",
    "train_dataset02 = dataset02['train']\n",
    "test_dataset02 = dataset02['test']"
   ]
  },
  {
   "cell_type": "code",
   "execution_count": 16,
   "id": "fe699faf",
   "metadata": {},
   "outputs": [
    {
     "data": {
      "text/plain": [
       "{'text': ['Dla mnie faworytem do tytułu będzie Cracovia. Zobaczymy, czy typ się sprawdzi.',\n",
       "  '@anonymized_account @anonymized_account Brawo ty Daria kibic ma być na dobre i złe',\n",
       "  '@anonymized_account @anonymized_account Super, polski premier składa kwiaty na grobach kolaborantów. Ale doczekaliśmy czasów.',\n",
       "  '@anonymized_account @anonymized_account Musi. Innej drogi nie mamy.',\n",
       "  'Odrzut natychmiastowy, kwaśna mina, mam problem',\n",
       "  'Jaki on był fajny xdd pamiętam, że spóźniłam się na jego pierwsze zajęcia i to sporo i za karę kazał mi usiąść w pierwszej ławce XD',\n",
       "  '@anonymized_account No nie ma u nas szczęścia 😉',\n",
       "  '@anonymized_account Dawno kogoś tak wrednego nie widziałam xd',\n",
       "  '@anonymized_account @anonymized_account Zaległości były, ale ważne czy były wezwania do zapłaty z których się klub nie wywiązał.',\n",
       "  '@anonymized_account @anonymized_account @anonymized_account Gdzie jest @anonymized_account . Brudziński jesteś kłamcą i marnym kutasem @anonymized_account',\n",
       "  '@anonymized_account @anonymized_account  no mam nadzieje !!:)',\n",
       "  '@anonymized_account @anonymized_account Może gustował w starszych paniach ;-)',\n",
       "  '@anonymized_account Zostawiłam tam 3 lata temu \\\\\"Notatki na mankietach\\\\\". Muszę się wrócić.',\n",
       "  '@anonymized_account Oprawa do Krzysia M. Ps Pinokio -\\\\n\\\\\" mogłeś być gangsterem a zostałeś 3 ligowym frajerem \\\\\"😀',\n",
       "  '@anonymized_account @anonymized_account Znowu będzie komunikat o polskich piratach drogowych w Słowacji.',\n",
       "  '@anonymized_account Mówi człowiek, który chciał nałożyć sankcje na Polskę. Gratulacje. #Niepodlegla #11lisopada',\n",
       "  'RT @anonymized_account @anonymized_account Mówi człowiek, który chciał nałożyć sankcje na Polskę. Gratulacje. #Niepodlegla #11lisopada',\n",
       "  '@anonymized_account @anonymized_account o jakim zachowaniu \\\\\"fer\\\\\" mówisz skoro ukrywał się z tym że podpisał kontrakt z Legią ? Możesz rozwinąć ?',\n",
       "  '@anonymized_account @anonymized_account Joanno! Po raz pierwszy się z panią zgadzam.😁😁😁😁😁',\n",
       "  'Monster block, monster block, monster block... 😁'],\n",
       " 'label': [0, 0, 0, 0, 0, 0, 0, 0, 0, 1, 0, 0, 0, 0, 0, 0, 0, 0, 0, 0]}"
      ]
     },
     "execution_count": 16,
     "metadata": {},
     "output_type": "execute_result"
    }
   ],
   "source": [
    "train_dataset01[:20]"
   ]
  },
  {
   "cell_type": "code",
   "execution_count": 15,
   "id": "8055235e",
   "metadata": {},
   "outputs": [
    {
     "data": {
      "text/plain": [
       "{'text': ['Dla mnie faworytem do tytułu będzie Cracovia. Zobaczymy, czy typ się sprawdzi.',\n",
       "  '@anonymized_account @anonymized_account Brawo ty Daria kibic ma być na dobre i złe',\n",
       "  '@anonymized_account @anonymized_account Super, polski premier składa kwiaty na grobach kolaborantów. Ale doczekaliśmy czasów.',\n",
       "  '@anonymized_account @anonymized_account Musi. Innej drogi nie mamy.',\n",
       "  'Odrzut natychmiastowy, kwaśna mina, mam problem',\n",
       "  'Jaki on był fajny xdd pamiętam, że spóźniłam się na jego pierwsze zajęcia i to sporo i za karę kazał mi usiąść w pierwszej ławce XD',\n",
       "  '@anonymized_account No nie ma u nas szczęścia 😉',\n",
       "  '@anonymized_account Dawno kogoś tak wrednego nie widziałam xd',\n",
       "  '@anonymized_account @anonymized_account Zaległości były, ale ważne czy były wezwania do zapłaty z których się klub nie wywiązał.',\n",
       "  '@anonymized_account @anonymized_account @anonymized_account Gdzie jest @anonymized_account . Brudziński jesteś kłamcą i marnym kutasem @anonymized_account',\n",
       "  '@anonymized_account @anonymized_account  no mam nadzieje !!:)',\n",
       "  '@anonymized_account @anonymized_account Może gustował w starszych paniach ;-)',\n",
       "  '@anonymized_account Zostawiłam tam 3 lata temu \\\\\"Notatki na mankietach\\\\\". Muszę się wrócić.',\n",
       "  '@anonymized_account Oprawa do Krzysia M. Ps Pinokio -\\\\n\\\\\" mogłeś być gangsterem a zostałeś 3 ligowym frajerem \\\\\"😀',\n",
       "  '@anonymized_account @anonymized_account Znowu będzie komunikat o polskich piratach drogowych w Słowacji.',\n",
       "  '@anonymized_account Mówi człowiek, który chciał nałożyć sankcje na Polskę. Gratulacje. #Niepodlegla #11lisopada',\n",
       "  'RT @anonymized_account @anonymized_account Mówi człowiek, który chciał nałożyć sankcje na Polskę. Gratulacje. #Niepodlegla #11lisopada',\n",
       "  '@anonymized_account @anonymized_account o jakim zachowaniu \\\\\"fer\\\\\" mówisz skoro ukrywał się z tym że podpisał kontrakt z Legią ? Możesz rozwinąć ?',\n",
       "  '@anonymized_account @anonymized_account Joanno! Po raz pierwszy się z panią zgadzam.😁😁😁😁😁',\n",
       "  'Monster block, monster block, monster block... 😁'],\n",
       " 'label': [0, 0, 0, 0, 0, 0, 0, 0, 0, 2, 0, 0, 0, 0, 0, 0, 0, 0, 0, 0]}"
      ]
     },
     "execution_count": 15,
     "metadata": {},
     "output_type": "execute_result"
    }
   ],
   "source": [
    "train_dataset02[:20]"
   ]
  },
  {
   "cell_type": "markdown",
   "id": "2d02927d",
   "metadata": {},
   "source": [
    "## Classifiers"
   ]
  },
  {
   "cell_type": "markdown",
   "id": "18e8af99",
   "metadata": {},
   "source": [
    "#### Baessian + TF-IDF"
   ]
  },
  {
   "cell_type": "code",
   "execution_count": 55,
   "id": "33df951a",
   "metadata": {},
   "outputs": [],
   "source": [
    "def tf_idf(train_dataset, test_dataset):    \n",
    "    vectorizer = TfidfVectorizer()\n",
    "    vectorizer.fit(train_dataset)\n",
    "    return vectorizer.transform(train_dataset).toarray(), vectorizer.transform(test_dataset).toarray()\n",
    "\n",
    "train_dataset01_tfidf, test_dataset01_tfidf = tf_idf(train_dataset01['text'], test_dataset01['text'])\n",
    "train_dataset02_tfidf, test_dataset02_tfidf = tf_idf(train_dataset02['text'], test_dataset02['text'])"
   ]
  },
  {
   "cell_type": "code",
   "execution_count": 56,
   "id": "a9338a9b",
   "metadata": {},
   "outputs": [
    {
     "data": {
      "text/plain": [
       "GaussianNB()"
      ]
     },
     "execution_count": 56,
     "metadata": {},
     "output_type": "execute_result"
    }
   ],
   "source": [
    "gnb01 = GaussianNB()\n",
    "gnb01.fit(train_dataset01_tfidf, train_dataset01['label'])"
   ]
  },
  {
   "cell_type": "code",
   "execution_count": 58,
   "id": "5ac6e82d",
   "metadata": {},
   "outputs": [
    {
     "data": {
      "text/plain": [
       "0.782"
      ]
     },
     "execution_count": 58,
     "metadata": {},
     "output_type": "execute_result"
    }
   ],
   "source": [
    "accuracy_score(gnb01.predict(test_dataset01_tfidf), test_dataset01['label'])"
   ]
  },
  {
   "cell_type": "code",
   "execution_count": 59,
   "id": "998329cd",
   "metadata": {},
   "outputs": [
    {
     "data": {
      "text/plain": [
       "GaussianNB()"
      ]
     },
     "execution_count": 59,
     "metadata": {},
     "output_type": "execute_result"
    }
   ],
   "source": [
    "gnb02 = GaussianNB()\n",
    "gnb02.fit(train_dataset02_tfidf, train_dataset02['label'])"
   ]
  },
  {
   "cell_type": "code",
   "execution_count": 60,
   "id": "a4338cea",
   "metadata": {},
   "outputs": [
    {
     "data": {
      "text/plain": [
       "0.787"
      ]
     },
     "execution_count": 60,
     "metadata": {},
     "output_type": "execute_result"
    }
   ],
   "source": [
    "accuracy_score(gnb02.predict(test_dataset02_tfidf), test_dataset02['label'])"
   ]
  },
  {
   "cell_type": "markdown",
   "id": "8cf14e00",
   "metadata": {},
   "source": [
    "#### Fasttext  "
   ]
  },
  {
   "cell_type": "code",
   "execution_count": 66,
   "id": "e288b042",
   "metadata": {},
   "outputs": [
    {
     "name": "stdout",
     "output_type": "stream",
     "text": [
      "Help on module fasttext.FastText in fasttext:\n",
      "\n",
      "NAME\n",
      "    fasttext.FastText\n",
      "\n",
      "DESCRIPTION\n",
      "    # Copyright (c) 2017-present, Facebook, Inc.\n",
      "    # All rights reserved.\n",
      "    #\n",
      "    # This source code is licensed under the MIT license found in the\n",
      "    # LICENSE file in the root directory of this source tree.\n",
      "\n",
      "FUNCTIONS\n",
      "    cbow(*kargs, **kwargs)\n",
      "    \n",
      "    load_model(path)\n",
      "        Load a model given a filepath and return a model object.\n",
      "    \n",
      "    read_args(arg_list, arg_dict, arg_names, default_values)\n",
      "    \n",
      "    skipgram(*kargs, **kwargs)\n",
      "    \n",
      "    supervised(*kargs, **kwargs)\n",
      "    \n",
      "    tokenize(text)\n",
      "        Given a string of text, tokenize it and return a list of tokens\n",
      "    \n",
      "    train_supervised(*kargs, **kwargs)\n",
      "        Train a supervised model and return a model object.\n",
      "        \n",
      "        input must be a filepath. The input text does not need to be tokenized\n",
      "        as per the tokenize function, but it must be preprocessed and encoded\n",
      "        as UTF-8. You might want to consult standard preprocessing scripts such\n",
      "        as tokenizer.perl mentioned here: http://www.statmt.org/wmt07/baseline.html\n",
      "        \n",
      "        The input file must must contain at least one label per line. For an\n",
      "        example consult the example datasets which are part of the fastText\n",
      "        repository such as the dataset pulled by classification-example.sh.\n",
      "    \n",
      "    train_unsupervised(*kargs, **kwargs)\n",
      "        Train an unsupervised model and return a model object.\n",
      "        \n",
      "        input must be a filepath. The input text does not need to be tokenized\n",
      "        as per the tokenize function, but it must be preprocessed and encoded\n",
      "        as UTF-8. You might want to consult standard preprocessing scripts such\n",
      "        as tokenizer.perl mentioned here: http://www.statmt.org/wmt07/baseline.html\n",
      "        \n",
      "        The input field must not contain any labels or use the specified label prefix\n",
      "        unless it is ok for those words to be ignored. For an example consult the\n",
      "        dataset pulled by the example script word-vector-example.sh, which is\n",
      "        part of the fastText repository.\n",
      "\n",
      "DATA\n",
      "    BOW = '<'\n",
      "    EOS = '</s>'\n",
      "    EOW = '>'\n",
      "    absolute_import = _Feature((2, 5, 0, 'alpha', 1), (3, 0, 0, 'alpha', 0...\n",
      "    displayed_errors = {}\n",
      "    division = _Feature((2, 2, 0, 'alpha', 2), (3, 0, 0, 'alpha', 0), 8192...\n",
      "    print_function = _Feature((2, 6, 0, 'alpha', 2), (3, 0, 0, 'alpha', 0)...\n",
      "    unicode_literals = _Feature((2, 6, 0, 'alpha', 2), (3, 0, 0, 'alpha', ...\n",
      "    unsupervised_default = {'autotuneDuration': 300, 'autotuneMetric': 'f1...\n",
      "\n",
      "FILE\n",
      "    /home/arkadius/studies/nlp2/7_classification/venv/lib/python3.6/site-packages/fasttext/FastText.py\n",
      "\n",
      "\n"
     ]
    }
   ],
   "source": [
    "help(fasttext.FastText)"
   ]
  },
  {
   "cell_type": "code",
   "execution_count": 69,
   "id": "e195e094",
   "metadata": {},
   "outputs": [],
   "source": [
    "def to_fast_text_input_file(dataset, filename):\n",
    "    with open(filename, \"w\") as f:\n",
    "        for label, text in zip(dataset['label'], dataset['text']):\n",
    "            f.write(f\"__label__{label} {text}\\n\")\n",
    "\n",
    "to_fast_text_input_file(train_dataset01, 'fasttext_train01.txt')\n",
    "to_fast_text_input_file(test_dataset01, 'fasttext_test01.txt')\n",
    "to_fast_text_input_file(train_dataset02, 'fasttext_train02.txt')\n",
    "to_fast_text_input_file(test_dataset02, 'fasttext_test02.txt')"
   ]
  },
  {
   "cell_type": "code",
   "execution_count": 70,
   "id": "77f05d83",
   "metadata": {},
   "outputs": [],
   "source": [
    "fasttext_model01 = fasttext.train_supervised('fasttext_train01.txt')\n",
    "fasttext_model02 = fasttext.train_supervised('fasttext_train02.txt')"
   ]
  },
  {
   "cell_type": "code",
   "execution_count": 71,
   "id": "182a3f97",
   "metadata": {},
   "outputs": [
    {
     "data": {
      "text/plain": [
       "(1000, 0.872, 0.872)"
      ]
     },
     "execution_count": 71,
     "metadata": {},
     "output_type": "execute_result"
    }
   ],
   "source": [
    "fasttext_model01.test('fasttext_test01.txt')"
   ]
  },
  {
   "cell_type": "code",
   "execution_count": 73,
   "id": "be0ae6bd",
   "metadata": {},
   "outputs": [
    {
     "data": {
      "text/plain": [
       "(1000, 0.867, 0.867)"
      ]
     },
     "execution_count": 73,
     "metadata": {},
     "output_type": "execute_result"
    }
   ],
   "source": [
    "fasttext_model02.test('fasttext_test02.txt')"
   ]
  },
  {
   "cell_type": "code",
   "execution_count": 74,
   "id": "0b9159bd",
   "metadata": {},
   "outputs": [],
   "source": [
    "### transformers"
   ]
  },
  {
   "cell_type": "code",
   "execution_count": null,
   "id": "9aa0e9e3",
   "metadata": {},
   "outputs": [],
   "source": []
  }
 ],
 "metadata": {
  "kernelspec": {
   "display_name": "Python 3",
   "language": "python",
   "name": "python3"
  },
  "language_info": {
   "codemirror_mode": {
    "name": "ipython",
    "version": 3
   },
   "file_extension": ".py",
   "mimetype": "text/x-python",
   "name": "python",
   "nbconvert_exporter": "python",
   "pygments_lexer": "ipython3",
   "version": "3.6.9"
  }
 },
 "nbformat": 4,
 "nbformat_minor": 5
}
