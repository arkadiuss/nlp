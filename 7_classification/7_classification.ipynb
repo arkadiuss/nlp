{
 "cells": [
  {
   "cell_type": "code",
   "execution_count": 30,
   "id": "4a018c1b",
   "metadata": {},
   "outputs": [],
   "source": [
    "from datasets import load_dataset\n",
    "from sklearn.feature_extraction.text import TfidfVectorizer\n",
    "from sklearn.naive_bayes import GaussianNB\n",
    "from sklearn.metrics import accuracy_score"
   ]
  },
  {
   "cell_type": "code",
   "execution_count": 2,
   "id": "fe72e73a",
   "metadata": {},
   "outputs": [
    {
     "name": "stderr",
     "output_type": "stream",
     "text": [
      "Reusing dataset poleval2019_cyber_bullying (/home/arkadius/.cache/huggingface/datasets/poleval2019_cyber_bullying/task01/1.0.0/ce6060c56dae43c469bab309a7573b86299b0bcc2484e85cfe0ae70b5f770450)\n"
     ]
    },
    {
     "data": {
      "application/vnd.jupyter.widget-view+json": {
       "model_id": "3318c466e57c45cc859d0befd9c00bfd",
       "version_major": 2,
       "version_minor": 0
      },
      "text/plain": [
       "  0%|          | 0/2 [00:00<?, ?it/s]"
      ]
     },
     "metadata": {},
     "output_type": "display_data"
    },
    {
     "name": "stderr",
     "output_type": "stream",
     "text": [
      "Reusing dataset poleval2019_cyber_bullying (/home/arkadius/.cache/huggingface/datasets/poleval2019_cyber_bullying/task02/1.0.0/ce6060c56dae43c469bab309a7573b86299b0bcc2484e85cfe0ae70b5f770450)\n"
     ]
    },
    {
     "data": {
      "application/vnd.jupyter.widget-view+json": {
       "model_id": "94c23517596c435582db95a2c257a525",
       "version_major": 2,
       "version_minor": 0
      },
      "text/plain": [
       "  0%|          | 0/2 [00:00<?, ?it/s]"
      ]
     },
     "metadata": {},
     "output_type": "display_data"
    }
   ],
   "source": [
    "dataset01 = load_dataset(\"poleval2019_cyberbullying\", \"task01\")\n",
    "dataset02 = load_dataset(\"poleval2019_cyberbullying\", \"task02\")"
   ]
  },
  {
   "cell_type": "code",
   "execution_count": 44,
   "id": "abd9a9ea",
   "metadata": {},
   "outputs": [],
   "source": [
    "train_dataset01 = dataset01['train']\n",
    "test_dataset01 = dataset01['test']\n",
    "train_dataset02 = dataset02['train']\n",
    "test_dataset02 = dataset02['test']"
   ]
  },
  {
   "cell_type": "code",
   "execution_count": 16,
   "id": "ac70cb25",
   "metadata": {},
   "outputs": [
    {
     "data": {
      "text/plain": [
       "{'text': ['Dla mnie faworytem do tytułu będzie Cracovia. Zobaczymy, czy typ się sprawdzi.',\n",
       "  '@anonymized_account @anonymized_account Brawo ty Daria kibic ma być na dobre i złe',\n",
       "  '@anonymized_account @anonymized_account Super, polski premier składa kwiaty na grobach kolaborantów. Ale doczekaliśmy czasów.',\n",
       "  '@anonymized_account @anonymized_account Musi. Innej drogi nie mamy.',\n",
       "  'Odrzut natychmiastowy, kwaśna mina, mam problem',\n",
       "  'Jaki on był fajny xdd pamiętam, że spóźniłam się na jego pierwsze zajęcia i to sporo i za karę kazał mi usiąść w pierwszej ławce XD',\n",
       "  '@anonymized_account No nie ma u nas szczęścia 😉',\n",
       "  '@anonymized_account Dawno kogoś tak wrednego nie widziałam xd',\n",
       "  '@anonymized_account @anonymized_account Zaległości były, ale ważne czy były wezwania do zapłaty z których się klub nie wywiązał.',\n",
       "  '@anonymized_account @anonymized_account @anonymized_account Gdzie jest @anonymized_account . Brudziński jesteś kłamcą i marnym kutasem @anonymized_account',\n",
       "  '@anonymized_account @anonymized_account  no mam nadzieje !!:)',\n",
       "  '@anonymized_account @anonymized_account Może gustował w starszych paniach ;-)',\n",
       "  '@anonymized_account Zostawiłam tam 3 lata temu \\\\\"Notatki na mankietach\\\\\". Muszę się wrócić.',\n",
       "  '@anonymized_account Oprawa do Krzysia M. Ps Pinokio -\\\\n\\\\\" mogłeś być gangsterem a zostałeś 3 ligowym frajerem \\\\\"😀',\n",
       "  '@anonymized_account @anonymized_account Znowu będzie komunikat o polskich piratach drogowych w Słowacji.',\n",
       "  '@anonymized_account Mówi człowiek, który chciał nałożyć sankcje na Polskę. Gratulacje. #Niepodlegla #11lisopada',\n",
       "  'RT @anonymized_account @anonymized_account Mówi człowiek, który chciał nałożyć sankcje na Polskę. Gratulacje. #Niepodlegla #11lisopada',\n",
       "  '@anonymized_account @anonymized_account o jakim zachowaniu \\\\\"fer\\\\\" mówisz skoro ukrywał się z tym że podpisał kontrakt z Legią ? Możesz rozwinąć ?',\n",
       "  '@anonymized_account @anonymized_account Joanno! Po raz pierwszy się z panią zgadzam.😁😁😁😁😁',\n",
       "  'Monster block, monster block, monster block... 😁'],\n",
       " 'label': [0, 0, 0, 0, 0, 0, 0, 0, 0, 1, 0, 0, 0, 0, 0, 0, 0, 0, 0, 0]}"
      ]
     },
     "execution_count": 16,
     "metadata": {},
     "output_type": "execute_result"
    }
   ],
   "source": [
    "train_dataset01[:20]"
   ]
  },
  {
   "cell_type": "code",
   "execution_count": 15,
   "id": "28798138",
   "metadata": {},
   "outputs": [
    {
     "data": {
      "text/plain": [
       "{'text': ['Dla mnie faworytem do tytułu będzie Cracovia. Zobaczymy, czy typ się sprawdzi.',\n",
       "  '@anonymized_account @anonymized_account Brawo ty Daria kibic ma być na dobre i złe',\n",
       "  '@anonymized_account @anonymized_account Super, polski premier składa kwiaty na grobach kolaborantów. Ale doczekaliśmy czasów.',\n",
       "  '@anonymized_account @anonymized_account Musi. Innej drogi nie mamy.',\n",
       "  'Odrzut natychmiastowy, kwaśna mina, mam problem',\n",
       "  'Jaki on był fajny xdd pamiętam, że spóźniłam się na jego pierwsze zajęcia i to sporo i za karę kazał mi usiąść w pierwszej ławce XD',\n",
       "  '@anonymized_account No nie ma u nas szczęścia 😉',\n",
       "  '@anonymized_account Dawno kogoś tak wrednego nie widziałam xd',\n",
       "  '@anonymized_account @anonymized_account Zaległości były, ale ważne czy były wezwania do zapłaty z których się klub nie wywiązał.',\n",
       "  '@anonymized_account @anonymized_account @anonymized_account Gdzie jest @anonymized_account . Brudziński jesteś kłamcą i marnym kutasem @anonymized_account',\n",
       "  '@anonymized_account @anonymized_account  no mam nadzieje !!:)',\n",
       "  '@anonymized_account @anonymized_account Może gustował w starszych paniach ;-)',\n",
       "  '@anonymized_account Zostawiłam tam 3 lata temu \\\\\"Notatki na mankietach\\\\\". Muszę się wrócić.',\n",
       "  '@anonymized_account Oprawa do Krzysia M. Ps Pinokio -\\\\n\\\\\" mogłeś być gangsterem a zostałeś 3 ligowym frajerem \\\\\"😀',\n",
       "  '@anonymized_account @anonymized_account Znowu będzie komunikat o polskich piratach drogowych w Słowacji.',\n",
       "  '@anonymized_account Mówi człowiek, który chciał nałożyć sankcje na Polskę. Gratulacje. #Niepodlegla #11lisopada',\n",
       "  'RT @anonymized_account @anonymized_account Mówi człowiek, który chciał nałożyć sankcje na Polskę. Gratulacje. #Niepodlegla #11lisopada',\n",
       "  '@anonymized_account @anonymized_account o jakim zachowaniu \\\\\"fer\\\\\" mówisz skoro ukrywał się z tym że podpisał kontrakt z Legią ? Możesz rozwinąć ?',\n",
       "  '@anonymized_account @anonymized_account Joanno! Po raz pierwszy się z panią zgadzam.😁😁😁😁😁',\n",
       "  'Monster block, monster block, monster block... 😁'],\n",
       " 'label': [0, 0, 0, 0, 0, 0, 0, 0, 0, 2, 0, 0, 0, 0, 0, 0, 0, 0, 0, 0]}"
      ]
     },
     "execution_count": 15,
     "metadata": {},
     "output_type": "execute_result"
    }
   ],
   "source": [
    "train_dataset02[:20]"
   ]
  },
  {
   "cell_type": "markdown",
   "id": "54f792ac",
   "metadata": {},
   "source": [
    "## Classifiers"
   ]
  },
  {
   "cell_type": "markdown",
   "id": "80f31932",
   "metadata": {},
   "source": [
    "#### Baessian + TF-IDF"
   ]
  },
  {
   "cell_type": "code",
   "execution_count": 55,
   "id": "c227b1ae",
   "metadata": {},
   "outputs": [],
   "source": [
    "def tf_idf(train_dataset, test_dataset):    \n",
    "    vectorizer = TfidfVectorizer()\n",
    "    vectorizer.fit(train_dataset)\n",
    "    return vectorizer.transform(train_dataset).toarray(), vectorizer.transform(test_dataset).toarray()\n",
    "\n",
    "train_dataset01_tfidf, test_dataset01_tfidf = tf_idf(train_dataset01['text'], test_dataset01['text'])\n",
    "train_dataset02_tfidf, test_dataset02_tfidf = tf_idf(train_dataset02['text'], test_dataset02['text'])"
   ]
  },
  {
   "cell_type": "code",
   "execution_count": 56,
   "id": "7683e88d",
   "metadata": {},
   "outputs": [
    {
     "data": {
      "text/plain": [
       "GaussianNB()"
      ]
     },
     "execution_count": 56,
     "metadata": {},
     "output_type": "execute_result"
    }
   ],
   "source": [
    "gnb01 = GaussianNB()\n",
    "gnb01.fit(train_dataset01_tfidf, train_dataset01['label'])"
   ]
  },
  {
   "cell_type": "code",
   "execution_count": 58,
   "id": "6401b847",
   "metadata": {},
   "outputs": [
    {
     "data": {
      "text/plain": [
       "0.782"
      ]
     },
     "execution_count": 58,
     "metadata": {},
     "output_type": "execute_result"
    }
   ],
   "source": [
    "accuracy_score(gnb01.predict(test_dataset01_tfidf), test_dataset01['label'])"
   ]
  },
  {
   "cell_type": "code",
   "execution_count": 59,
   "id": "b06ff6c7",
   "metadata": {},
   "outputs": [
    {
     "data": {
      "text/plain": [
       "GaussianNB()"
      ]
     },
     "execution_count": 59,
     "metadata": {},
     "output_type": "execute_result"
    }
   ],
   "source": [
    "gnb02 = GaussianNB()\n",
    "gnb02.fit(train_dataset02_tfidf, train_dataset02['label'])"
   ]
  },
  {
   "cell_type": "code",
   "execution_count": 60,
   "id": "05692306",
   "metadata": {},
   "outputs": [
    {
     "data": {
      "text/plain": [
       "0.787"
      ]
     },
     "execution_count": 60,
     "metadata": {},
     "output_type": "execute_result"
    }
   ],
   "source": [
    "accuracy_score(gnb02.predict(test_dataset02_tfidf), test_dataset02['label'])"
   ]
  },
  {
   "cell_type": "markdown",
   "id": "5b290db0",
   "metadata": {},
   "source": [
    "#### Fasttext  "
   ]
  },
  {
   "cell_type": "code",
   "execution_count": null,
   "id": "246bf89d",
   "metadata": {},
   "outputs": [],
   "source": []
  }
 ],
 "metadata": {
  "kernelspec": {
   "display_name": "Python 3",
   "language": "python",
   "name": "python3"
  },
  "language_info": {
   "codemirror_mode": {
    "name": "ipython",
    "version": 3
   },
   "file_extension": ".py",
   "mimetype": "text/x-python",
   "name": "python",
   "nbconvert_exporter": "python",
   "pygments_lexer": "ipython3",
   "version": "3.6.9"
  }
 },
 "nbformat": 4,
 "nbformat_minor": 5
}
