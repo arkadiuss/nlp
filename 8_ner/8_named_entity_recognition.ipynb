{
 "cells": [
  {
   "cell_type": "code",
   "execution_count": null,
   "id": "33b55240",
   "metadata": {},
   "outputs": [],
   "source": [
    "from nlp_common.acts_reader import ActsReader\n",
    "from nlp_common.morphological_tagging import tag_morphologically\n",
    "from collections import Counter\n",
    "import requests\n",
    "import os\n",
    "import regex\n",
    "import xml.etree.ElementTree as ET"
   ]
  },
  {
   "cell_type": "code",
   "execution_count": 59,
   "id": "44e5acaf",
   "metadata": {},
   "outputs": [],
   "source": [
    "def longest_bills(n=50):\n",
    "    r = ActsReader('../ustawy')\n",
    "    bills = [ (n,c) for n,y,c in r.all_acts() ]\n",
    "    bills = sorted(bills, key=lambda x: -len(x[1]))\n",
    "    new_line_re = regex.compile(r'\\n+|\\s+|\\t+')\n",
    "    return [(name, new_line_re.sub(' ', bill)) for name,bill in bills[:n]]\n",
    "\n",
    "named_bills = longest_bills()\n",
    "bills = [ c for n,c in named_bills]"
   ]
  },
  {
   "cell_type": "code",
   "execution_count": 6,
   "id": "bfc995cb",
   "metadata": {},
   "outputs": [
    {
     "name": "stdout",
     "output_type": "stream",
     "text": [
      "Reading cached response\n"
     ]
    }
   ],
   "source": [
    "tags = tag_morphologically(bills)"
   ]
  },
  {
   "cell_type": "markdown",
   "id": "b548e226",
   "metadata": {},
   "source": [
    "### Basic NER"
   ]
  },
  {
   "cell_type": "code",
   "execution_count": 24,
   "id": "2a98c4d6",
   "metadata": {},
   "outputs": [],
   "source": [
    "def split_sentence(tagged_bills):\n",
    "    res = []\n",
    "    c = [ tagged_bills[0] ]\n",
    "    for i,b in enumerate(tagged_bills[1:]):\n",
    "        if tagged_bills[i-1][1] == '.' and tagged_bills[i][0][0].isupper():\n",
    "            res.append(c)\n",
    "            c = []\n",
    "        c.append(tagged_bills[i])\n",
    "    return res\n",
    "\n",
    "def basic_NER(tagged_bills):\n",
    "    res = []\n",
    "    c = [ ]\n",
    "    for i,b in enumerate(tagged_bills[1:]):\n",
    "        if tagged_bills[i-1][1] != '.' and tagged_bills[i][0][0].isupper():\n",
    "            c.append(tagged_bills[i][1])\n",
    "        elif len(c) > 0:\n",
    "            res.append(\" \".join(c))\n",
    "            c = []\n",
    "    if len(c) > 0:\n",
    "            res.append(\" \".join(c))\n",
    "    return res\n",
    "\n",
    "entities = basic_NER(tags)"
   ]
  },
  {
   "cell_type": "code",
   "execution_count": 25,
   "id": "0379bb80",
   "metadata": {},
   "outputs": [
    {
     "data": {
      "text/plain": [
       "['ustawa',\n",
       " 'artykuł',\n",
       " 'dziennik',\n",
       " 'minister',\n",
       " 'artykuł',\n",
       " 'dziennik',\n",
       " 'artykuł',\n",
       " 'minister sprawa wewnętrzny',\n",
       " 'minister',\n",
       " 'minister sprawa wewnętrzny']"
      ]
     },
     "execution_count": 25,
     "metadata": {},
     "output_type": "execute_result"
    }
   ],
   "source": [
    "entities[:10]"
   ]
  },
  {
   "cell_type": "code",
   "execution_count": 30,
   "id": "421fd394",
   "metadata": {},
   "outputs": [
    {
     "data": {
      "text/plain": [
       "[('numer', 3831),\n",
       " ('artykuł', 1848),\n",
       " ('dziennik', 1602),\n",
       " ('Rzeczpospolita polski', 611),\n",
       " ('kodeks', 510),\n",
       " ('policja', 463),\n",
       " ('skarb państwo', 397),\n",
       " ('prawo', 332),\n",
       " ('kasa chory', 328),\n",
       " ('unia europejski', 293),\n",
       " ('straż graniczny', 290),\n",
       " ('minister', 276),\n",
       " ('rada minister', 276),\n",
       " ('państwowy straż pożarny', 240),\n",
       " ('zakład', 230),\n",
       " ('państwowy komisja wyborczy', 212),\n",
       " ('rada', 195),\n",
       " ('prezes urząd', 183),\n",
       " ('fundusz', 182),\n",
       " ('minister obrona narodowy', 174),\n",
       " ('zmiana', 173),\n",
       " ('urząd patentowy', 172),\n",
       " ('I', 168),\n",
       " ('minister sprawiedliwość', 168),\n",
       " ('sprawiedliwość', 164),\n",
       " ('azot', 155),\n",
       " ('II', 150),\n",
       " ('rozdział', 148),\n",
       " ('pozostały', 143),\n",
       " ('urząd ochrona państwo', 141),\n",
       " ('tkanina', 141),\n",
       " ('prezes rada minister', 134),\n",
       " ('obrona narodowy', 129),\n",
       " ('minister finanse', 124),\n",
       " ('finanse', 116),\n",
       " ('inspektor nadzór wewnętrzny', 115),\n",
       " ('EFTA', 114),\n",
       " ('nawóz', 111),\n",
       " ('P2O5', 110),\n",
       " ('biuro', 109),\n",
       " ('Art', 107),\n",
       " ('komisja', 107),\n",
       " ('administracja', 106),\n",
       " ('europejski obszar gospodarczy', 106),\n",
       " ('europejski porozumienie', 105),\n",
       " ('wolny handel', 105),\n",
       " ('rzeczpospolita polski', 103),\n",
       " ('przepis', 101),\n",
       " ('III', 98),\n",
       " ('urząd', 97)]"
      ]
     },
     "execution_count": 30,
     "metadata": {},
     "output_type": "execute_result"
    }
   ],
   "source": [
    "ctr = Counter(entities)\n",
    "sorted([ (k, ctr[k]) for k in ctr ], key=lambda x: -x[1])[:50]"
   ]
  },
  {
   "cell_type": "markdown",
   "id": "e3486382",
   "metadata": {},
   "source": [
    "### Clarin NER"
   ]
  },
  {
   "cell_type": "code",
   "execution_count": 61,
   "id": "8ec3575e",
   "metadata": {},
   "outputs": [
    {
     "name": "stdout",
     "output_type": "stream",
     "text": [
      "{'2000_696.txt': '67a5bde5-c15e-4b7a-8004-792107b4dae0', '2001_627.txt': '14c661ca-8f3a-4a81-bea4-6227e82a229a', '1996_465.txt': 'f0a62dc0-748e-4d59-8b71-56a5357679b2', '1997_555.txt': 'a41c972d-4ffc-4e8d-854e-9e953939fd28', '2002_1689.txt': '2971a96b-6694-41fe-94d1-cb9c9c934cfb', '2000_1186.txt': 'f91895ac-0492-4249-8657-0c39b763dc1e', '1998_1118.txt': 'b163fe1f-3b04-4a57-8856-241d214d9e64', '1997_117.txt': '5c705c49-d9df-4e02-8842-c24378d78688', '2001_1070.txt': '2b074c08-3885-4bce-8efb-a4a41e01b433', '2001_1368.txt': 'ffeac07c-86c5-4011-a82f-ecd24be6d261', '1997_714.txt': '154fca1a-b76b-47c8-a616-4dc36fdf52ad', '2001_499.txt': '806299d6-3d22-46b2-89b7-26aa97930abf', '2000_991.txt': 'a52ee00f-45eb-4c8e-bcb9-676f3b0542de', '2003_1750.txt': '68e93200-63c3-4645-a525-1fb84688ad09', '2001_1545.txt': '68eacf90-0629-44b8-8ce4-f8d4ad3254ef', '2001_1229.txt': 'b8d7763e-c351-4d6e-ad95-2f66699f4ad4', '2000_1268.txt': '7805f84f-bb06-4e09-a2cc-de5090758dc5', '1994_195.txt': '16a4f863-aa81-40b8-9e09-162df1a51da7', '1997_926.txt': '599ae841-f9fc-4dba-a09b-ffaebe002612', '2000_1104.txt': '17fc4bfe-e867-41f5-811c-b96078c0291a', '2003_2277.txt': '791a1285-1ed4-464c-98dc-2a02bf5db8fb', '1997_553.txt': '72d306b3-f8e9-44f6-82d7-d7398e7cb5bd', '2004_2065.txt': '00a18f27-3cb6-4708-9db5-45e80df753b5', '2004_1693.txt': '62264cdd-7d1a-4797-a505-f1c245da1007', '2004_880.txt': '03d5faed-5b0d-42fe-8adb-6876dbd01161', '2004_177.txt': '94863675-2e65-4b3e-aaf9-eac59bece488', '2003_423.txt': '95bbdd8b-6a2e-42e6-bb2c-0baef889c485', '1997_349.txt': '09a4c658-efc2-473f-9b83-680963efb092', '2000_1315.txt': 'd1d79e51-3abc-4b7b-959b-bc789026b02e', '1999_930.txt': '238feaea-1d41-448d-8418-84decc74d27b', '1994_591.txt': '8d8a4f2d-8a7f-40a3-aec8-0eab7edb3557', '1996_110.txt': '371af9c4-a9d4-465c-9da5-d6310812741a', '1997_557.txt': '1fd23e3a-c9cc-4a8d-b67f-045335e82206', '1999_95.txt': 'fb720f84-224a-4433-a645-cba7fedcb43a', '2004_2533.txt': '98705de7-aa9c-451c-bb6f-b40cd2cf1950', '2001_1381.txt': 'fe7dfe52-cce2-4f8a-940f-c220c8eb57f0', '2000_136.txt': 'd1700aa4-ca93-4faf-ae28-79742c0e7289', '1996_460.txt': '60dd4889-f700-467d-91a2-fcb4bd37fdf7', '2001_1438.txt': '2ada22a6-04f2-493c-b408-9378c6cf822a', '1996_561.txt': '66327a36-2b53-405d-9d1e-1ec15b565419', '2001_1188.txt': '440cb90e-eb44-4ee5-b4a0-692b36d6aaab', '2001_475.txt': '05a526d2-0a8d-4cc3-890d-50d4e3d74b4c', '2001_628.txt': 'c31532a2-9ba9-4db7-aa7d-6b2f4ccee183', '1998_602.txt': '4b0b97cb-576b-4942-aa57-ffe881c449a4', '2003_2256.txt': 'f0cf8e4c-a53d-496c-8bb4-d1726bdd71ad', '2001_906.txt': '1fc390c1-0287-43b7-91ae-ff325b0b6209', '1996_496.txt': '4c970beb-a99d-41a4-a4ec-10b097251a41', '2001_92.txt': 'aa89c795-c89c-4093-b8b2-38322392f49b', '1997_153.txt': 'a16d1933-c1ec-4a50-89c8-c7eb2b2af036', '2001_1444.txt': '81467ac4-fab9-44ec-ad4a-39b3b6c8cf1d'}\n"
     ]
    }
   ],
   "source": [
    "def start_clarin_task(bill):\n",
    "    r = requests.post('https://ws.clarin-pl.eu/nlprest2/base/startTask', json={ \n",
    "        \"lpmn\":'any2txt|wcrft2|liner2({\"model\":\"n82\"})',\n",
    "        \"text\": bills[0]\n",
    "    })\n",
    "\n",
    "    return r.text\n",
    "\n",
    "def start_clarin_tasks(named_bills):\n",
    "    return { name: start_clarin_task(bill) for name,bill in named_bills }\n",
    "\n",
    "bills_requests_ids = start_clarin_tasks(named_bills)\n",
    "print(bills_requests_ids)"
   ]
  },
  {
   "cell_type": "code",
   "execution_count": null,
   "id": "77aa2f78",
   "metadata": {},
   "outputs": [
    {
     "name": "stdout",
     "output_type": "stream",
     "text": [
      "67a5bde5-c15e-4b7a-8004-792107b4dae0 for clarin_output/clarin_output_2000_696.txt is not yet ready\n",
      "14c661ca-8f3a-4a81-bea4-6227e82a229a for clarin_output/clarin_output_2001_627.txt is not yet ready\n",
      "f0a62dc0-748e-4d59-8b71-56a5357679b2 for clarin_output/clarin_output_1996_465.txt is ready. Downloading response...\n",
      "a41c972d-4ffc-4e8d-854e-9e953939fd28 for clarin_output/clarin_output_1997_555.txt is not yet ready\n",
      "2971a96b-6694-41fe-94d1-cb9c9c934cfb for clarin_output/clarin_output_2002_1689.txt is not yet ready\n",
      "f91895ac-0492-4249-8657-0c39b763dc1e for clarin_output/clarin_output_2000_1186.txt is not yet ready\n",
      "b163fe1f-3b04-4a57-8856-241d214d9e64 for clarin_output/clarin_output_1998_1118.txt is not yet ready\n",
      "5c705c49-d9df-4e02-8842-c24378d78688 for clarin_output/clarin_output_1997_117.txt is not yet ready\n",
      "2b074c08-3885-4bce-8efb-a4a41e01b433 for clarin_output/clarin_output_2001_1070.txt is not yet ready\n",
      "ffeac07c-86c5-4011-a82f-ecd24be6d261 for clarin_output/clarin_output_2001_1368.txt is not yet ready\n",
      "154fca1a-b76b-47c8-a616-4dc36fdf52ad for clarin_output/clarin_output_1997_714.txt is ready. Downloading response...\n",
      "806299d6-3d22-46b2-89b7-26aa97930abf for clarin_output/clarin_output_2001_499.txt is not yet ready\n",
      "a52ee00f-45eb-4c8e-bcb9-676f3b0542de for clarin_output/clarin_output_2000_991.txt is not yet ready\n",
      "68e93200-63c3-4645-a525-1fb84688ad09 for clarin_output/clarin_output_2003_1750.txt is not yet ready\n",
      "68eacf90-0629-44b8-8ce4-f8d4ad3254ef for clarin_output/clarin_output_2001_1545.txt is ready. Downloading response...\n",
      "b8d7763e-c351-4d6e-ad95-2f66699f4ad4 for clarin_output/clarin_output_2001_1229.txt is not yet ready\n",
      "7805f84f-bb06-4e09-a2cc-de5090758dc5 for clarin_output/clarin_output_2000_1268.txt is not yet ready\n",
      "16a4f863-aa81-40b8-9e09-162df1a51da7 for clarin_output/clarin_output_1994_195.txt is not yet ready\n",
      "599ae841-f9fc-4dba-a09b-ffaebe002612 for clarin_output/clarin_output_1997_926.txt is ready. Downloading response...\n",
      "17fc4bfe-e867-41f5-811c-b96078c0291a for clarin_output/clarin_output_2000_1104.txt is not yet ready\n",
      "791a1285-1ed4-464c-98dc-2a02bf5db8fb for clarin_output/clarin_output_2003_2277.txt is ready. Downloading response...\n",
      "72d306b3-f8e9-44f6-82d7-d7398e7cb5bd for clarin_output/clarin_output_1997_553.txt is ready. Downloading response...\n",
      "00a18f27-3cb6-4708-9db5-45e80df753b5 for clarin_output/clarin_output_2004_2065.txt is ready. Downloading response...\n",
      "62264cdd-7d1a-4797-a505-f1c245da1007 for clarin_output/clarin_output_2004_1693.txt is ready. Downloading response...\n",
      "03d5faed-5b0d-42fe-8adb-6876dbd01161 for clarin_output/clarin_output_2004_880.txt is ready. Downloading response...\n",
      "94863675-2e65-4b3e-aaf9-eac59bece488 for clarin_output/clarin_output_2004_177.txt is ready. Downloading response...\n",
      "95bbdd8b-6a2e-42e6-bb2c-0baef889c485 for clarin_output/clarin_output_2003_423.txt is ready. Downloading response...\n",
      "09a4c658-efc2-473f-9b83-680963efb092 for clarin_output/clarin_output_1997_349.txt is ready. Downloading response...\n",
      "d1d79e51-3abc-4b7b-959b-bc789026b02e for clarin_output/clarin_output_2000_1315.txt is ready. Downloading response...\n",
      "238feaea-1d41-448d-8418-84decc74d27b for clarin_output/clarin_output_1999_930.txt is ready. Downloading response...\n",
      "8d8a4f2d-8a7f-40a3-aec8-0eab7edb3557 for clarin_output/clarin_output_1994_591.txt is ready. Downloading response...\n",
      "371af9c4-a9d4-465c-9da5-d6310812741a for clarin_output/clarin_output_1996_110.txt is ready. Downloading response...\n",
      "1fd23e3a-c9cc-4a8d-b67f-045335e82206 for clarin_output/clarin_output_1997_557.txt is ready. Downloading response...\n"
     ]
    }
   ],
   "source": [
    "def get_response(request_id, file_name):\n",
    "    if os.path.exists(file_name):\n",
    "        print(f\"{file_name} already exists. Skipping...\")\n",
    "    status = requests.get('https://ws.clarin-pl.eu/nlprest2/base/getStatus/'+request_id).json()\n",
    "    \n",
    "    if status[\"status\"] == \"DONE\":\n",
    "        print(f\"{request_id} for {file_name} is ready. Downloading response...\")\n",
    "        fileID = status[\"value\"][0][\"fileID\"]\n",
    "        t = requests.get(\"https://ws.clarin-pl.eu/nlprest2/base/download\"+fileID).text\n",
    "        with open(file_name, \"w\") as f:\n",
    "            f.write(t)\n",
    "    else:\n",
    "        print(f\"{request_id} for {file_name} is not yet ready\")\n",
    "    \n",
    "def get_responses(bills_requests_ids):\n",
    "    for name in bills_requests_ids:\n",
    "        get_response(bills_requests_ids[name], f\"clarin_output/clarin_output_{name}\")\n",
    "        \n",
    "get_responses(bills_requests_ids)"
   ]
  },
  {
   "cell_type": "code",
   "execution_count": null,
   "id": "ce3716c2",
   "metadata": {},
   "outputs": [],
   "source": [
    "def read_clarin_output(bill_name):\n",
    "    file_name = f\"clarin_output/clarin_output_{bill_name}\"\n",
    "    tree = ET.parse(file_name)\n",
    "    return tree.getroot()\n",
    "\n",
    "def clarin_NER_single_bill(bill_name)\n",
    "    chunk_list = read_clarin_output(bill_name)\n",
    "    for chunk in chunk_list:\n",
    "        for sentence in chunk:\n",
    "            for token in sentence:\n",
    "                for token_lex in token:\n",
    "                    if token_lex.tag == \"ann\":\n",
    "                        for attr_name in token_lex.attrib:\n",
    "                            if attr_name == \"chan\" and token_lex.attrib[attr_name].startswith(\"nam_\"):\n",
    "                                print(attr_name, token_lex.attrib[attr_name], token_lex.text)\n",
    "\n",
    "clarin_NER_single_bill(\"2001_1545.txt\")"
   ]
  },
  {
   "cell_type": "markdown",
   "id": "a7e70245",
   "metadata": {},
   "source": [
    "### Conclusion"
   ]
  },
  {
   "cell_type": "markdown",
   "id": "62797140",
   "metadata": {},
   "source": [
    "```\n",
    " <tok>\n",
    "    <orth>Prezesowi</orth>\n",
    "    <lex disamb=\"1\"><base>prezes</base><ctag>subst:sg:dat:m1</ctag></lex>\n",
    "    <ann chan=\"nam_org_institution\" head=\"1\">1</ann>\n",
    "    <ann chan=\"nam_org_organization\">0</ann>\n",
    "   </tok>\n",
    "   <tok>\n",
    "    <orth>Zarządu</orth>\n",
    "    <lex disamb=\"1\"><base>zarząd</base><ctag>subst:sg:gen:m3</ctag></lex>\n",
    "    <ann chan=\"nam_org_institution\">1</ann>\n",
    "    <ann chan=\"nam_org_organization\">0</ann>\n",
    "   </tok>\n",
    "   <tok>\n",
    "    <orth>Państwowego</orth>\n",
    "    <lex disamb=\"1\"><base>państwowy</base><ctag>adj:sg:gen:m1:pos</ctag></lex>\n",
    "    <ann chan=\"nam_org_institution\">1</ann>\n",
    "    <ann chan=\"nam_org_organization\">0</ann>\n",
    "   </tok>\n",
    "   <tok>\n",
    "    <orth>Funduszu</orth>\n",
    "    <lex disamb=\"1\"><base>fundusz</base><ctag>subst:sg:gen:m3</ctag></lex>\n",
    "    <ann chan=\"nam_org_institution\">1</ann>\n",
    "    <ann chan=\"nam_org_organization\">0</ann>\n",
    "   </tok>\n",
    "   <tok>\n",
    "    <orth>Rehabilitacyjnego</orth>\n",
    "    <lex disamb=\"1\"><base>rehabilitacyjny</base><ctag>adj:sg:gen:m1:pos</ctag></lex>\n",
    "    <ann chan=\"nam_org_institution\">1</ann>\n",
    "    <ann chan=\"nam_org_organization\">0</ann>\n",
    "   </tok>\n",
    "   <tok>\n",
    "    <orth>i</orth>\n",
    "    <lex disamb=\"1\"><base>i</base><ctag>conj</ctag></lex>\n",
    "    <ann chan=\"nam_org_institution\">0</ann>\n",
    "    <ann chan=\"nam_org_organization\">0</ann>\n",
    "   </tok>\n",
    "   <tok>\n",
    "    <orth>Osób</orth>\n",
    "    <lex disamb=\"1\"><base>osoba</base><ctag>subst:pl:gen:f</ctag></lex>\n",
    "    <ann chan=\"nam_org_institution\">0</ann>\n",
    "    <ann chan=\"nam_org_organization\">0</ann>\n",
    "   </tok>\n",
    "   <tok>\n",
    "    <orth>Niepełnosprawnych</orth>\n",
    "    <lex disamb=\"1\"><base>niepełnosprawna</base><ctag>subst:pl:gen:f</ctag></lex>\n",
    "    <ann chan=\"nam_org_institution\">0</ann>\n",
    "    <ann chan=\"nam_org_organization\">0</ann>\n",
    "   </tok>\n",
    "```"
   ]
  },
  {
   "cell_type": "code",
   "execution_count": null,
   "id": "08e9646b",
   "metadata": {},
   "outputs": [],
   "source": []
  }
 ],
 "metadata": {
  "kernelspec": {
   "display_name": "Python 3",
   "language": "python",
   "name": "python3"
  },
  "language_info": {
   "codemirror_mode": {
    "name": "ipython",
    "version": 3
   },
   "file_extension": ".py",
   "mimetype": "text/x-python",
   "name": "python",
   "nbconvert_exporter": "python",
   "pygments_lexer": "ipython3",
   "version": "3.6.9"
  }
 },
 "nbformat": 4,
 "nbformat_minor": 5
}
